{
 "cells": [
  {
   "cell_type": "markdown",
   "metadata": {},
   "source": [
    "### Note\n",
    "* Instructions have been included for each segment. You do not have to follow them exactly, but they are included to help you think through the steps."
   ]
  },
  {
   "cell_type": "code",
   "execution_count": 1,
   "metadata": {},
   "outputs": [
    {
     "data": {
      "text/html": [
       "<div>\n",
       "<style scoped>\n",
       "    .dataframe tbody tr th:only-of-type {\n",
       "        vertical-align: middle;\n",
       "    }\n",
       "\n",
       "    .dataframe tbody tr th {\n",
       "        vertical-align: top;\n",
       "    }\n",
       "\n",
       "    .dataframe thead th {\n",
       "        text-align: right;\n",
       "    }\n",
       "</style>\n",
       "<table border=\"1\" class=\"dataframe\">\n",
       "  <thead>\n",
       "    <tr style=\"text-align: right;\">\n",
       "      <th></th>\n",
       "      <th>Student ID</th>\n",
       "      <th>student_name</th>\n",
       "      <th>gender</th>\n",
       "      <th>grade</th>\n",
       "      <th>school_name</th>\n",
       "      <th>reading_score</th>\n",
       "      <th>math_score</th>\n",
       "      <th>School ID</th>\n",
       "      <th>type</th>\n",
       "      <th>size</th>\n",
       "      <th>budget</th>\n",
       "    </tr>\n",
       "  </thead>\n",
       "  <tbody>\n",
       "    <tr>\n",
       "      <th>0</th>\n",
       "      <td>0</td>\n",
       "      <td>Paul Bradley</td>\n",
       "      <td>M</td>\n",
       "      <td>9th</td>\n",
       "      <td>Huang High School</td>\n",
       "      <td>66</td>\n",
       "      <td>79</td>\n",
       "      <td>0</td>\n",
       "      <td>District</td>\n",
       "      <td>2917</td>\n",
       "      <td>1910635</td>\n",
       "    </tr>\n",
       "    <tr>\n",
       "      <th>1</th>\n",
       "      <td>1</td>\n",
       "      <td>Victor Smith</td>\n",
       "      <td>M</td>\n",
       "      <td>12th</td>\n",
       "      <td>Huang High School</td>\n",
       "      <td>94</td>\n",
       "      <td>61</td>\n",
       "      <td>0</td>\n",
       "      <td>District</td>\n",
       "      <td>2917</td>\n",
       "      <td>1910635</td>\n",
       "    </tr>\n",
       "    <tr>\n",
       "      <th>2</th>\n",
       "      <td>2</td>\n",
       "      <td>Kevin Rodriguez</td>\n",
       "      <td>M</td>\n",
       "      <td>12th</td>\n",
       "      <td>Huang High School</td>\n",
       "      <td>90</td>\n",
       "      <td>60</td>\n",
       "      <td>0</td>\n",
       "      <td>District</td>\n",
       "      <td>2917</td>\n",
       "      <td>1910635</td>\n",
       "    </tr>\n",
       "    <tr>\n",
       "      <th>3</th>\n",
       "      <td>3</td>\n",
       "      <td>Dr. Richard Scott</td>\n",
       "      <td>M</td>\n",
       "      <td>12th</td>\n",
       "      <td>Huang High School</td>\n",
       "      <td>67</td>\n",
       "      <td>58</td>\n",
       "      <td>0</td>\n",
       "      <td>District</td>\n",
       "      <td>2917</td>\n",
       "      <td>1910635</td>\n",
       "    </tr>\n",
       "    <tr>\n",
       "      <th>4</th>\n",
       "      <td>4</td>\n",
       "      <td>Bonnie Ray</td>\n",
       "      <td>F</td>\n",
       "      <td>9th</td>\n",
       "      <td>Huang High School</td>\n",
       "      <td>97</td>\n",
       "      <td>84</td>\n",
       "      <td>0</td>\n",
       "      <td>District</td>\n",
       "      <td>2917</td>\n",
       "      <td>1910635</td>\n",
       "    </tr>\n",
       "    <tr>\n",
       "      <th>...</th>\n",
       "      <td>...</td>\n",
       "      <td>...</td>\n",
       "      <td>...</td>\n",
       "      <td>...</td>\n",
       "      <td>...</td>\n",
       "      <td>...</td>\n",
       "      <td>...</td>\n",
       "      <td>...</td>\n",
       "      <td>...</td>\n",
       "      <td>...</td>\n",
       "      <td>...</td>\n",
       "    </tr>\n",
       "    <tr>\n",
       "      <th>39165</th>\n",
       "      <td>39165</td>\n",
       "      <td>Donna Howard</td>\n",
       "      <td>F</td>\n",
       "      <td>12th</td>\n",
       "      <td>Thomas High School</td>\n",
       "      <td>99</td>\n",
       "      <td>90</td>\n",
       "      <td>14</td>\n",
       "      <td>Charter</td>\n",
       "      <td>1635</td>\n",
       "      <td>1043130</td>\n",
       "    </tr>\n",
       "    <tr>\n",
       "      <th>39166</th>\n",
       "      <td>39166</td>\n",
       "      <td>Dawn Bell</td>\n",
       "      <td>F</td>\n",
       "      <td>10th</td>\n",
       "      <td>Thomas High School</td>\n",
       "      <td>95</td>\n",
       "      <td>70</td>\n",
       "      <td>14</td>\n",
       "      <td>Charter</td>\n",
       "      <td>1635</td>\n",
       "      <td>1043130</td>\n",
       "    </tr>\n",
       "    <tr>\n",
       "      <th>39167</th>\n",
       "      <td>39167</td>\n",
       "      <td>Rebecca Tanner</td>\n",
       "      <td>F</td>\n",
       "      <td>9th</td>\n",
       "      <td>Thomas High School</td>\n",
       "      <td>73</td>\n",
       "      <td>84</td>\n",
       "      <td>14</td>\n",
       "      <td>Charter</td>\n",
       "      <td>1635</td>\n",
       "      <td>1043130</td>\n",
       "    </tr>\n",
       "    <tr>\n",
       "      <th>39168</th>\n",
       "      <td>39168</td>\n",
       "      <td>Desiree Kidd</td>\n",
       "      <td>F</td>\n",
       "      <td>10th</td>\n",
       "      <td>Thomas High School</td>\n",
       "      <td>99</td>\n",
       "      <td>90</td>\n",
       "      <td>14</td>\n",
       "      <td>Charter</td>\n",
       "      <td>1635</td>\n",
       "      <td>1043130</td>\n",
       "    </tr>\n",
       "    <tr>\n",
       "      <th>39169</th>\n",
       "      <td>39169</td>\n",
       "      <td>Carolyn Jackson</td>\n",
       "      <td>F</td>\n",
       "      <td>11th</td>\n",
       "      <td>Thomas High School</td>\n",
       "      <td>95</td>\n",
       "      <td>75</td>\n",
       "      <td>14</td>\n",
       "      <td>Charter</td>\n",
       "      <td>1635</td>\n",
       "      <td>1043130</td>\n",
       "    </tr>\n",
       "  </tbody>\n",
       "</table>\n",
       "<p>39170 rows × 11 columns</p>\n",
       "</div>"
      ],
      "text/plain": [
       "       Student ID       student_name gender grade         school_name  \\\n",
       "0               0       Paul Bradley      M   9th   Huang High School   \n",
       "1               1       Victor Smith      M  12th   Huang High School   \n",
       "2               2    Kevin Rodriguez      M  12th   Huang High School   \n",
       "3               3  Dr. Richard Scott      M  12th   Huang High School   \n",
       "4               4         Bonnie Ray      F   9th   Huang High School   \n",
       "...           ...                ...    ...   ...                 ...   \n",
       "39165       39165       Donna Howard      F  12th  Thomas High School   \n",
       "39166       39166          Dawn Bell      F  10th  Thomas High School   \n",
       "39167       39167     Rebecca Tanner      F   9th  Thomas High School   \n",
       "39168       39168       Desiree Kidd      F  10th  Thomas High School   \n",
       "39169       39169    Carolyn Jackson      F  11th  Thomas High School   \n",
       "\n",
       "       reading_score  math_score  School ID      type  size   budget  \n",
       "0                 66          79          0  District  2917  1910635  \n",
       "1                 94          61          0  District  2917  1910635  \n",
       "2                 90          60          0  District  2917  1910635  \n",
       "3                 67          58          0  District  2917  1910635  \n",
       "4                 97          84          0  District  2917  1910635  \n",
       "...              ...         ...        ...       ...   ...      ...  \n",
       "39165             99          90         14   Charter  1635  1043130  \n",
       "39166             95          70         14   Charter  1635  1043130  \n",
       "39167             73          84         14   Charter  1635  1043130  \n",
       "39168             99          90         14   Charter  1635  1043130  \n",
       "39169             95          75         14   Charter  1635  1043130  \n",
       "\n",
       "[39170 rows x 11 columns]"
      ]
     },
     "execution_count": 1,
     "metadata": {},
     "output_type": "execute_result"
    }
   ],
   "source": [
    "# Dependencies and Setup\n",
    "import pandas as pd\n",
    "import numpy as np\n",
    "\n",
    "# File to Load (Remember to Change These)\n",
    "school_data_to_load = \"Resources/schools_complete.csv\"\n",
    "student_data_to_load = \"Resources/students_complete.csv\"\n",
    "\n",
    "# Read School and Student Data File and store into Pandas DataFrames\n",
    "school_data = pd.read_csv(school_data_to_load)\n",
    "student_data = pd.read_csv(student_data_to_load)\n",
    "\n",
    "# Combine the data into a single dataset.  \n",
    "school_data_complete = pd.merge(student_data, school_data, how=\"left\", on=[\"school_name\", \"school_name\"])\n",
    "school_data_complete"
   ]
  },
  {
   "cell_type": "markdown",
   "metadata": {},
   "source": [
    "## District Summary\n",
    "\n",
    "* Calculate the total number of schools\n",
    "\n",
    "* Calculate the total number of students\n",
    "\n",
    "* Calculate the total budget\n",
    "\n",
    "* Calculate the average math score \n",
    "\n",
    "* Calculate the average reading score\n",
    "\n",
    "* Calculate the percentage of students with a passing math score (70 or greater)\n",
    "\n",
    "* Calculate the percentage of students with a passing reading score (70 or greater)\n",
    "\n",
    "* Calculate the percentage of students who passed math **and** reading (% Overall Passing)\n",
    "\n",
    "* Create a dataframe to hold the above results\n",
    "\n",
    "* Optional: give the displayed data cleaner formatting"
   ]
  },
  {
   "cell_type": "code",
   "execution_count": 2,
   "metadata": {},
   "outputs": [
    {
     "data": {
      "text/plain": [
       "15"
      ]
     },
     "execution_count": 2,
     "metadata": {},
     "output_type": "execute_result"
    }
   ],
   "source": [
    "# Calculate the total number of schools\n",
    "school_count = school_data['school_name'].count()\n",
    "school_count"
   ]
  },
  {
   "cell_type": "code",
   "execution_count": 3,
   "metadata": {},
   "outputs": [
    {
     "data": {
      "text/plain": [
       "39170"
      ]
     },
     "execution_count": 3,
     "metadata": {},
     "output_type": "execute_result"
    }
   ],
   "source": [
    "# Calculate the total number of students\n",
    "student_count = student_data['student_name'].count()\n",
    "student_count"
   ]
  },
  {
   "cell_type": "code",
   "execution_count": 4,
   "metadata": {},
   "outputs": [
    {
     "data": {
      "text/plain": [
       "24649428"
      ]
     },
     "execution_count": 4,
     "metadata": {},
     "output_type": "execute_result"
    }
   ],
   "source": [
    "# Calculate the total budget\n",
    "total_budget = school_data['budget'].sum()\n",
    "total_budget"
   ]
  },
  {
   "cell_type": "code",
   "execution_count": 5,
   "metadata": {},
   "outputs": [
    {
     "data": {
      "text/plain": [
       "78.98537145774827"
      ]
     },
     "execution_count": 5,
     "metadata": {},
     "output_type": "execute_result"
    }
   ],
   "source": [
    "# Calculate the average math score\n",
    "avg_math_score = student_data['math_score'].mean()\n",
    "avg_math_score"
   ]
  },
  {
   "cell_type": "code",
   "execution_count": 6,
   "metadata": {},
   "outputs": [
    {
     "data": {
      "text/plain": [
       "81.87784018381414"
      ]
     },
     "execution_count": 6,
     "metadata": {},
     "output_type": "execute_result"
    }
   ],
   "source": [
    "# Calculate the average reading score\n",
    "avg_reading_score = student_data['reading_score'].mean()\n",
    "avg_reading_score"
   ]
  },
  {
   "cell_type": "code",
   "execution_count": 7,
   "metadata": {},
   "outputs": [
    {
     "data": {
      "text/plain": [
       "74.9808526933878"
      ]
     },
     "execution_count": 7,
     "metadata": {},
     "output_type": "execute_result"
    }
   ],
   "source": [
    "# Calculate the percentage of students with a passing math score (70 or greater)\n",
    "# We already know total number of students from student_count\n",
    "# Filter students with math score >= 70\n",
    "math_passers_list = school_data_complete.loc[school_data_complete['math_score'] >= 70]\n",
    "# Calculate total number of students who passed math\n",
    "math_passers_count = math_passers_list['student_name'].count()\n",
    "# Calculate percentage of passing students in math\n",
    "math_passers_percentage = (math_passers_count / student_count) * 100\n",
    "math_passers_percentage"
   ]
  },
  {
   "cell_type": "code",
   "execution_count": 8,
   "metadata": {},
   "outputs": [
    {
     "data": {
      "text/plain": [
       "85.80546336482001"
      ]
     },
     "execution_count": 8,
     "metadata": {},
     "output_type": "execute_result"
    }
   ],
   "source": [
    "# Calculate the percentage of students with a passing reading score (70 or greater)\n",
    "# We already know total number of students from student_count\n",
    "# Filter students with reading score >= 70\n",
    "reading_passers_list = school_data_complete.loc[school_data_complete['reading_score'] >= 70]\n",
    "# Calculate total number of students who passed reading\n",
    "reading_passers_count = reading_passers_list['student_name'].count()\n",
    "# Calculate percentage of passing students in reading\n",
    "reading_passers_percentage = (reading_passers_count / student_count) * 100\n",
    "reading_passers_percentage"
   ]
  },
  {
   "cell_type": "code",
   "execution_count": 9,
   "metadata": {},
   "outputs": [
    {
     "data": {
      "text/plain": [
       "65.17232575950983"
      ]
     },
     "execution_count": 9,
     "metadata": {},
     "output_type": "execute_result"
    }
   ],
   "source": [
    "# Calculate the percentage of students who passed math and reading (% Overall Passing)\n",
    "# We already know total number of students from student_count\n",
    "# Filter students with both math and reading score >= 70\n",
    "math_and_reading_passers_list = school_data_complete.loc[(school_data_complete['reading_score'] >= 70) & \n",
    "                                                        (school_data_complete['math_score'] >= 70)]\n",
    "# Calculate total number of students who passed both reading and math\n",
    "math_and_reading_passers_count = math_and_reading_passers_list['student_name'].count()\n",
    "# Calculate percentage of passing students in both reading and math\n",
    "math_and_reading_passers_percentage = (math_and_reading_passers_count / student_count) * 100\n",
    "math_and_reading_passers_percentage"
   ]
  },
  {
   "cell_type": "code",
   "execution_count": 10,
   "metadata": {},
   "outputs": [
    {
     "data": {
      "text/html": [
       "<div>\n",
       "<style scoped>\n",
       "    .dataframe tbody tr th:only-of-type {\n",
       "        vertical-align: middle;\n",
       "    }\n",
       "\n",
       "    .dataframe tbody tr th {\n",
       "        vertical-align: top;\n",
       "    }\n",
       "\n",
       "    .dataframe thead th {\n",
       "        text-align: right;\n",
       "    }\n",
       "</style>\n",
       "<table border=\"1\" class=\"dataframe\">\n",
       "  <thead>\n",
       "    <tr style=\"text-align: right;\">\n",
       "      <th></th>\n",
       "      <th>Total Schools</th>\n",
       "      <th>Total Students</th>\n",
       "      <th>Total Budget</th>\n",
       "      <th>Average Math Score</th>\n",
       "      <th>Average Reading Score</th>\n",
       "      <th>% Passing Math</th>\n",
       "      <th>% Passing Reading</th>\n",
       "      <th>% Overall Passing</th>\n",
       "    </tr>\n",
       "  </thead>\n",
       "  <tbody>\n",
       "    <tr>\n",
       "      <th>0</th>\n",
       "      <td>15</td>\n",
       "      <td>39170</td>\n",
       "      <td>24649428</td>\n",
       "      <td>78.985371</td>\n",
       "      <td>81.87784</td>\n",
       "      <td>74.980853</td>\n",
       "      <td>85.805463</td>\n",
       "      <td>65.172326</td>\n",
       "    </tr>\n",
       "  </tbody>\n",
       "</table>\n",
       "</div>"
      ],
      "text/plain": [
       "   Total Schools  Total Students  Total Budget  Average Math Score  \\\n",
       "0             15           39170      24649428           78.985371   \n",
       "\n",
       "   Average Reading Score  % Passing Math  % Passing Reading  % Overall Passing  \n",
       "0               81.87784       74.980853          85.805463          65.172326  "
      ]
     },
     "execution_count": 10,
     "metadata": {},
     "output_type": "execute_result"
    }
   ],
   "source": [
    "# Create a dataframe to hold the above results\n",
    "df = pd.DataFrame([[school_count, student_count, total_budget, avg_math_score, avg_reading_score,\n",
    "                    math_passers_percentage, reading_passers_percentage, math_and_reading_passers_percentage]], \n",
    "                    index=[0], columns=list('ABCDEFGH'))\n",
    "# Rename all columns\n",
    "district_summary = df.rename(columns={\"A\":\"Total Schools\", \"B\":\"Total Students\", \"C\":\"Total Budget\",\n",
    "                                      \"D\":\"Average Math Score\", \"E\":\"Average Reading Score\",\n",
    "                                      \"F\":\"% Passing Math\", \"G\":\"% Passing Reading\", \n",
    "                                     \"H\":\"% Overall Passing\"})\n",
    "district_summary\n"
   ]
  },
  {
   "cell_type": "code",
   "execution_count": 11,
   "metadata": {},
   "outputs": [
    {
     "data": {
      "text/html": [
       "<style  type=\"text/css\" >\n",
       "</style><table id=\"T_0a459aee_4347_11ed_a407_5414f348fa57\" ><thead>    <tr>        <th class=\"blank level0\" ></th>        <th class=\"col_heading level0 col0\" >Total Schools</th>        <th class=\"col_heading level0 col1\" >Total Students</th>        <th class=\"col_heading level0 col2\" >Total Budget</th>        <th class=\"col_heading level0 col3\" >Average Math Score</th>        <th class=\"col_heading level0 col4\" >Average Reading Score</th>        <th class=\"col_heading level0 col5\" >% Passing Math</th>        <th class=\"col_heading level0 col6\" >% Passing Reading</th>        <th class=\"col_heading level0 col7\" >% Overall Passing</th>    </tr></thead><tbody>\n",
       "                <tr>\n",
       "                        <th id=\"T_0a459aee_4347_11ed_a407_5414f348fa57level0_row0\" class=\"row_heading level0 row0\" >0</th>\n",
       "                        <td id=\"T_0a459aee_4347_11ed_a407_5414f348fa57row0_col0\" class=\"data row0 col0\" >15</td>\n",
       "                        <td id=\"T_0a459aee_4347_11ed_a407_5414f348fa57row0_col1\" class=\"data row0 col1\" >39,170</td>\n",
       "                        <td id=\"T_0a459aee_4347_11ed_a407_5414f348fa57row0_col2\" class=\"data row0 col2\" >$24,649,428.00</td>\n",
       "                        <td id=\"T_0a459aee_4347_11ed_a407_5414f348fa57row0_col3\" class=\"data row0 col3\" >78.985371</td>\n",
       "                        <td id=\"T_0a459aee_4347_11ed_a407_5414f348fa57row0_col4\" class=\"data row0 col4\" >81.877840</td>\n",
       "                        <td id=\"T_0a459aee_4347_11ed_a407_5414f348fa57row0_col5\" class=\"data row0 col5\" >74.980853</td>\n",
       "                        <td id=\"T_0a459aee_4347_11ed_a407_5414f348fa57row0_col6\" class=\"data row0 col6\" >85.805463</td>\n",
       "                        <td id=\"T_0a459aee_4347_11ed_a407_5414f348fa57row0_col7\" class=\"data row0 col7\" >65.172326</td>\n",
       "            </tr>\n",
       "    </tbody></table>"
      ],
      "text/plain": [
       "<pandas.io.formats.style.Styler at 0x2411ca8d988>"
      ]
     },
     "execution_count": 11,
     "metadata": {},
     "output_type": "execute_result"
    }
   ],
   "source": [
    "# Optional: give the displayed data cleaner formatting\n",
    "# Format Total Students column and Total Budget column per the sample solution\n",
    "district_summary.style.format({\"Total Students\": \"{:,d}\", \"Total Budget\": \"${:,.2f}\"})"
   ]
  },
  {
   "cell_type": "markdown",
   "metadata": {},
   "source": [
    "## School Summary"
   ]
  },
  {
   "cell_type": "markdown",
   "metadata": {},
   "source": [
    "* Create an overview table that summarizes key metrics about each school, including:\n",
    "  * School Name\n",
    "  * School Type\n",
    "  * Total Students\n",
    "  * Total School Budget\n",
    "  * Per Student Budget\n",
    "  * Average Math Score\n",
    "  * Average Reading Score\n",
    "  * % Passing Math\n",
    "  * % Passing Reading\n",
    "  * % Overall Passing (The percentage of students that passed math **and** reading.)\n",
    "  \n",
    "* Create a dataframe to hold the above results"
   ]
  },
  {
   "cell_type": "code",
   "execution_count": 12,
   "metadata": {},
   "outputs": [
    {
     "data": {
      "text/html": [
       "<div>\n",
       "<style scoped>\n",
       "    .dataframe tbody tr th:only-of-type {\n",
       "        vertical-align: middle;\n",
       "    }\n",
       "\n",
       "    .dataframe tbody tr th {\n",
       "        vertical-align: top;\n",
       "    }\n",
       "\n",
       "    .dataframe thead th {\n",
       "        text-align: right;\n",
       "    }\n",
       "</style>\n",
       "<table border=\"1\" class=\"dataframe\">\n",
       "  <thead>\n",
       "    <tr style=\"text-align: right;\">\n",
       "      <th></th>\n",
       "      <th>type</th>\n",
       "    </tr>\n",
       "    <tr>\n",
       "      <th>school_name</th>\n",
       "      <th></th>\n",
       "    </tr>\n",
       "  </thead>\n",
       "  <tbody>\n",
       "    <tr>\n",
       "      <th>Huang High School</th>\n",
       "      <td>District</td>\n",
       "    </tr>\n",
       "    <tr>\n",
       "      <th>Figueroa High School</th>\n",
       "      <td>District</td>\n",
       "    </tr>\n",
       "    <tr>\n",
       "      <th>Shelton High School</th>\n",
       "      <td>Charter</td>\n",
       "    </tr>\n",
       "    <tr>\n",
       "      <th>Hernandez High School</th>\n",
       "      <td>District</td>\n",
       "    </tr>\n",
       "    <tr>\n",
       "      <th>Griffin High School</th>\n",
       "      <td>Charter</td>\n",
       "    </tr>\n",
       "  </tbody>\n",
       "</table>\n",
       "</div>"
      ],
      "text/plain": [
       "                           type\n",
       "school_name                    \n",
       "Huang High School      District\n",
       "Figueroa High School   District\n",
       "Shelton High School     Charter\n",
       "Hernandez High School  District\n",
       "Griffin High School     Charter"
      ]
     },
     "execution_count": 12,
     "metadata": {},
     "output_type": "execute_result"
    }
   ],
   "source": [
    "# Change original df name and set school type per school\n",
    "new_index_df = school_data_complete\n",
    "school_type = school_data[[\"school_name\",\"type\"]].set_index(\"school_name\")\n",
    "school_type.head()"
   ]
  },
  {
   "cell_type": "code",
   "execution_count": 13,
   "metadata": {},
   "outputs": [
    {
     "data": {
      "text/plain": [
       "Bailey High School       4976\n",
       "Johnson High School      4761\n",
       "Hernandez High School    4635\n",
       "Rodriguez High School    3999\n",
       "Figueroa High School     2949\n",
       "Name: school_name, dtype: int64"
      ]
     },
     "execution_count": 13,
     "metadata": {},
     "output_type": "execute_result"
    }
   ],
   "source": [
    "# Calculate New Column for Total Students per School\n",
    "students_per_school = new_index_df['school_name'].value_counts()\n",
    "students_per_school.head()"
   ]
  },
  {
   "cell_type": "code",
   "execution_count": 14,
   "metadata": {},
   "outputs": [
    {
     "data": {
      "text/plain": [
       "school_name\n",
       "Bailey High School      3124928.0\n",
       "Cabrera High School     1081356.0\n",
       "Figueroa High School    1884411.0\n",
       "Ford High School        1763916.0\n",
       "Griffin High School      917500.0\n",
       "Name: budget, dtype: float64"
      ]
     },
     "execution_count": 14,
     "metadata": {},
     "output_type": "execute_result"
    }
   ],
   "source": [
    "# Calculate New Column for Total School Budget per School\n",
    "budget_per_school = new_index_df.groupby([\"school_name\"]).mean()[\"budget\"]\n",
    "budget_per_school.head()"
   ]
  },
  {
   "cell_type": "code",
   "execution_count": 15,
   "metadata": {},
   "outputs": [
    {
     "data": {
      "text/plain": [
       "Bailey High School      628.0\n",
       "Cabrera High School     582.0\n",
       "Figueroa High School    639.0\n",
       "Ford High School        644.0\n",
       "Griffin High School     625.0\n",
       "dtype: float64"
      ]
     },
     "execution_count": 15,
     "metadata": {},
     "output_type": "execute_result"
    }
   ],
   "source": [
    "# Calculate New Column for Budget per Student\n",
    "budget_per_student = budget_per_school / students_per_school\n",
    "budget_per_student.head()"
   ]
  },
  {
   "cell_type": "code",
   "execution_count": 16,
   "metadata": {},
   "outputs": [
    {
     "data": {
      "text/plain": [
       "school_name\n",
       "Bailey High School      77.048432\n",
       "Cabrera High School     83.061895\n",
       "Figueroa High School    76.711767\n",
       "Ford High School        77.102592\n",
       "Griffin High School     83.351499\n",
       "Name: math_score, dtype: float64"
      ]
     },
     "execution_count": 16,
     "metadata": {},
     "output_type": "execute_result"
    }
   ],
   "source": [
    "# Calculate New Column for Average Math Score per school\n",
    "avg_math_per_school = new_index_df.groupby([\"school_name\"]).mean()[\"math_score\"]\n",
    "avg_math_per_school.head()"
   ]
  },
  {
   "cell_type": "code",
   "execution_count": 17,
   "metadata": {},
   "outputs": [
    {
     "data": {
      "text/plain": [
       "school_name\n",
       "Bailey High School      81.033963\n",
       "Cabrera High School     83.975780\n",
       "Figueroa High School    81.158020\n",
       "Ford High School        80.746258\n",
       "Griffin High School     83.816757\n",
       "Name: reading_score, dtype: float64"
      ]
     },
     "execution_count": 17,
     "metadata": {},
     "output_type": "execute_result"
    }
   ],
   "source": [
    "# Calculate New Column for Average Reading Score per school\n",
    "avg_reading_per_school = new_index_df.groupby([\"school_name\"]).mean()[\"reading_score\"]\n",
    "avg_reading_per_school.head()"
   ]
  },
  {
   "cell_type": "code",
   "execution_count": 18,
   "metadata": {},
   "outputs": [
    {
     "data": {
      "text/plain": [
       "Bailey High School      66.680064\n",
       "Cabrera High School     94.133477\n",
       "Figueroa High School    65.988471\n",
       "Ford High School        68.309602\n",
       "Griffin High School     93.392371\n",
       "Name: school_name, dtype: float64"
      ]
     },
     "execution_count": 18,
     "metadata": {},
     "output_type": "execute_result"
    }
   ],
   "source": [
    "# Calculate New Column for % Passing Math per school\n",
    "# We already know total number of students per school from students_per_school\n",
    "# Filter students with math score >= 70 from new_index_df\n",
    "math_passers = new_index_df.loc[new_index_df['math_score'] >= 70]\n",
    "# Calculate total number of students who passed math per school\n",
    "math_passers_per_school = math_passers['school_name'].value_counts()\n",
    "# Calculate percentage of passing students in math per school\n",
    "math_passers_per_school_percentage = (math_passers_per_school / students_per_school) * 100\n",
    "math_passers_per_school_percentage.head()"
   ]
  },
  {
   "cell_type": "code",
   "execution_count": 19,
   "metadata": {},
   "outputs": [
    {
     "data": {
      "text/plain": [
       "Bailey High School      81.933280\n",
       "Cabrera High School     97.039828\n",
       "Figueroa High School    80.739234\n",
       "Ford High School        79.299014\n",
       "Griffin High School     97.138965\n",
       "Name: school_name, dtype: float64"
      ]
     },
     "execution_count": 19,
     "metadata": {},
     "output_type": "execute_result"
    }
   ],
   "source": [
    "# Calculate New Column for % Passing Reading per school\n",
    "# We already know total number of students per school from students_per_school\n",
    "# Filter students with reading score >= 70 from new_index_df\n",
    "reading_passers = new_index_df.loc[new_index_df['reading_score'] >= 70]\n",
    "# Calculate total number of students who passed reading per school\n",
    "reading_passers_per_school = reading_passers['school_name'].value_counts()\n",
    "reading_passers_per_school\n",
    "# Calculate percentage of passing students in reading per school\n",
    "reading_passers_per_school_percentage = (reading_passers_per_school / students_per_school) * 100\n",
    "reading_passers_per_school_percentage.head()\n"
   ]
  },
  {
   "cell_type": "code",
   "execution_count": 20,
   "metadata": {},
   "outputs": [
    {
     "data": {
      "text/plain": [
       "Bailey High School      54.642283\n",
       "Cabrera High School     91.334769\n",
       "Figueroa High School    53.204476\n",
       "Ford High School        54.289887\n",
       "Griffin High School     90.599455\n",
       "Name: school_name, dtype: float64"
      ]
     },
     "execution_count": 20,
     "metadata": {},
     "output_type": "execute_result"
    }
   ],
   "source": [
    "# Calculate New Column for % Overall Passing per school\n",
    "# We already know total number of students from student_count\n",
    "# Filter students with both math and reading score >= 70\n",
    "math_and_reading_passers = new_index_df.loc[(new_index_df['reading_score'] >= 70) & \n",
    "                                            (new_index_df['math_score'] >= 70)]\n",
    "# Calculate total number of students who passed both reading and math per school\n",
    "math_and_reading_passers_per_school = math_and_reading_passers['school_name'].value_counts()\n",
    "# Calculate percentage of passing students in both reading and math per school\n",
    "math_and_reading_passers_per_school_percentage = math_and_reading_passers_per_school / students_per_school * 100\n",
    "math_and_reading_passers_per_school_percentage.head()"
   ]
  },
  {
   "cell_type": "code",
   "execution_count": 21,
   "metadata": {},
   "outputs": [
    {
     "data": {
      "text/html": [
       "<style  type=\"text/css\" >\n",
       "</style><table id=\"T_0a5d89d8_4347_11ed_bf86_5414f348fa57\" ><thead>    <tr>        <th class=\"blank level0\" ></th>        <th class=\"col_heading level0 col0\" >School Type</th>        <th class=\"col_heading level0 col1\" >Total Students</th>        <th class=\"col_heading level0 col2\" >Total School Budget</th>        <th class=\"col_heading level0 col3\" >Per Student Budget</th>        <th class=\"col_heading level0 col4\" >Average Math Score</th>        <th class=\"col_heading level0 col5\" >Average Reading Score</th>        <th class=\"col_heading level0 col6\" >% Passing Math</th>        <th class=\"col_heading level0 col7\" >% Passing Reading</th>        <th class=\"col_heading level0 col8\" >% Overall Passing</th>    </tr></thead><tbody>\n",
       "                <tr>\n",
       "                        <th id=\"T_0a5d89d8_4347_11ed_bf86_5414f348fa57level0_row0\" class=\"row_heading level0 row0\" >Bailey High School</th>\n",
       "                        <td id=\"T_0a5d89d8_4347_11ed_bf86_5414f348fa57row0_col0\" class=\"data row0 col0\" >District</td>\n",
       "                        <td id=\"T_0a5d89d8_4347_11ed_bf86_5414f348fa57row0_col1\" class=\"data row0 col1\" >4976</td>\n",
       "                        <td id=\"T_0a5d89d8_4347_11ed_bf86_5414f348fa57row0_col2\" class=\"data row0 col2\" >$3,124,928.00</td>\n",
       "                        <td id=\"T_0a5d89d8_4347_11ed_bf86_5414f348fa57row0_col3\" class=\"data row0 col3\" >$628.00</td>\n",
       "                        <td id=\"T_0a5d89d8_4347_11ed_bf86_5414f348fa57row0_col4\" class=\"data row0 col4\" >77.048432</td>\n",
       "                        <td id=\"T_0a5d89d8_4347_11ed_bf86_5414f348fa57row0_col5\" class=\"data row0 col5\" >81.033963</td>\n",
       "                        <td id=\"T_0a5d89d8_4347_11ed_bf86_5414f348fa57row0_col6\" class=\"data row0 col6\" >66.680064</td>\n",
       "                        <td id=\"T_0a5d89d8_4347_11ed_bf86_5414f348fa57row0_col7\" class=\"data row0 col7\" >81.933280</td>\n",
       "                        <td id=\"T_0a5d89d8_4347_11ed_bf86_5414f348fa57row0_col8\" class=\"data row0 col8\" >54.642283</td>\n",
       "            </tr>\n",
       "            <tr>\n",
       "                        <th id=\"T_0a5d89d8_4347_11ed_bf86_5414f348fa57level0_row1\" class=\"row_heading level0 row1\" >Cabrera High School</th>\n",
       "                        <td id=\"T_0a5d89d8_4347_11ed_bf86_5414f348fa57row1_col0\" class=\"data row1 col0\" >Charter</td>\n",
       "                        <td id=\"T_0a5d89d8_4347_11ed_bf86_5414f348fa57row1_col1\" class=\"data row1 col1\" >1858</td>\n",
       "                        <td id=\"T_0a5d89d8_4347_11ed_bf86_5414f348fa57row1_col2\" class=\"data row1 col2\" >$1,081,356.00</td>\n",
       "                        <td id=\"T_0a5d89d8_4347_11ed_bf86_5414f348fa57row1_col3\" class=\"data row1 col3\" >$582.00</td>\n",
       "                        <td id=\"T_0a5d89d8_4347_11ed_bf86_5414f348fa57row1_col4\" class=\"data row1 col4\" >83.061895</td>\n",
       "                        <td id=\"T_0a5d89d8_4347_11ed_bf86_5414f348fa57row1_col5\" class=\"data row1 col5\" >83.975780</td>\n",
       "                        <td id=\"T_0a5d89d8_4347_11ed_bf86_5414f348fa57row1_col6\" class=\"data row1 col6\" >94.133477</td>\n",
       "                        <td id=\"T_0a5d89d8_4347_11ed_bf86_5414f348fa57row1_col7\" class=\"data row1 col7\" >97.039828</td>\n",
       "                        <td id=\"T_0a5d89d8_4347_11ed_bf86_5414f348fa57row1_col8\" class=\"data row1 col8\" >91.334769</td>\n",
       "            </tr>\n",
       "            <tr>\n",
       "                        <th id=\"T_0a5d89d8_4347_11ed_bf86_5414f348fa57level0_row2\" class=\"row_heading level0 row2\" >Figueroa High School</th>\n",
       "                        <td id=\"T_0a5d89d8_4347_11ed_bf86_5414f348fa57row2_col0\" class=\"data row2 col0\" >District</td>\n",
       "                        <td id=\"T_0a5d89d8_4347_11ed_bf86_5414f348fa57row2_col1\" class=\"data row2 col1\" >2949</td>\n",
       "                        <td id=\"T_0a5d89d8_4347_11ed_bf86_5414f348fa57row2_col2\" class=\"data row2 col2\" >$1,884,411.00</td>\n",
       "                        <td id=\"T_0a5d89d8_4347_11ed_bf86_5414f348fa57row2_col3\" class=\"data row2 col3\" >$639.00</td>\n",
       "                        <td id=\"T_0a5d89d8_4347_11ed_bf86_5414f348fa57row2_col4\" class=\"data row2 col4\" >76.711767</td>\n",
       "                        <td id=\"T_0a5d89d8_4347_11ed_bf86_5414f348fa57row2_col5\" class=\"data row2 col5\" >81.158020</td>\n",
       "                        <td id=\"T_0a5d89d8_4347_11ed_bf86_5414f348fa57row2_col6\" class=\"data row2 col6\" >65.988471</td>\n",
       "                        <td id=\"T_0a5d89d8_4347_11ed_bf86_5414f348fa57row2_col7\" class=\"data row2 col7\" >80.739234</td>\n",
       "                        <td id=\"T_0a5d89d8_4347_11ed_bf86_5414f348fa57row2_col8\" class=\"data row2 col8\" >53.204476</td>\n",
       "            </tr>\n",
       "            <tr>\n",
       "                        <th id=\"T_0a5d89d8_4347_11ed_bf86_5414f348fa57level0_row3\" class=\"row_heading level0 row3\" >Ford High School</th>\n",
       "                        <td id=\"T_0a5d89d8_4347_11ed_bf86_5414f348fa57row3_col0\" class=\"data row3 col0\" >District</td>\n",
       "                        <td id=\"T_0a5d89d8_4347_11ed_bf86_5414f348fa57row3_col1\" class=\"data row3 col1\" >2739</td>\n",
       "                        <td id=\"T_0a5d89d8_4347_11ed_bf86_5414f348fa57row3_col2\" class=\"data row3 col2\" >$1,763,916.00</td>\n",
       "                        <td id=\"T_0a5d89d8_4347_11ed_bf86_5414f348fa57row3_col3\" class=\"data row3 col3\" >$644.00</td>\n",
       "                        <td id=\"T_0a5d89d8_4347_11ed_bf86_5414f348fa57row3_col4\" class=\"data row3 col4\" >77.102592</td>\n",
       "                        <td id=\"T_0a5d89d8_4347_11ed_bf86_5414f348fa57row3_col5\" class=\"data row3 col5\" >80.746258</td>\n",
       "                        <td id=\"T_0a5d89d8_4347_11ed_bf86_5414f348fa57row3_col6\" class=\"data row3 col6\" >68.309602</td>\n",
       "                        <td id=\"T_0a5d89d8_4347_11ed_bf86_5414f348fa57row3_col7\" class=\"data row3 col7\" >79.299014</td>\n",
       "                        <td id=\"T_0a5d89d8_4347_11ed_bf86_5414f348fa57row3_col8\" class=\"data row3 col8\" >54.289887</td>\n",
       "            </tr>\n",
       "            <tr>\n",
       "                        <th id=\"T_0a5d89d8_4347_11ed_bf86_5414f348fa57level0_row4\" class=\"row_heading level0 row4\" >Griffin High School</th>\n",
       "                        <td id=\"T_0a5d89d8_4347_11ed_bf86_5414f348fa57row4_col0\" class=\"data row4 col0\" >Charter</td>\n",
       "                        <td id=\"T_0a5d89d8_4347_11ed_bf86_5414f348fa57row4_col1\" class=\"data row4 col1\" >1468</td>\n",
       "                        <td id=\"T_0a5d89d8_4347_11ed_bf86_5414f348fa57row4_col2\" class=\"data row4 col2\" >$917,500.00</td>\n",
       "                        <td id=\"T_0a5d89d8_4347_11ed_bf86_5414f348fa57row4_col3\" class=\"data row4 col3\" >$625.00</td>\n",
       "                        <td id=\"T_0a5d89d8_4347_11ed_bf86_5414f348fa57row4_col4\" class=\"data row4 col4\" >83.351499</td>\n",
       "                        <td id=\"T_0a5d89d8_4347_11ed_bf86_5414f348fa57row4_col5\" class=\"data row4 col5\" >83.816757</td>\n",
       "                        <td id=\"T_0a5d89d8_4347_11ed_bf86_5414f348fa57row4_col6\" class=\"data row4 col6\" >93.392371</td>\n",
       "                        <td id=\"T_0a5d89d8_4347_11ed_bf86_5414f348fa57row4_col7\" class=\"data row4 col7\" >97.138965</td>\n",
       "                        <td id=\"T_0a5d89d8_4347_11ed_bf86_5414f348fa57row4_col8\" class=\"data row4 col8\" >90.599455</td>\n",
       "            </tr>\n",
       "            <tr>\n",
       "                        <th id=\"T_0a5d89d8_4347_11ed_bf86_5414f348fa57level0_row5\" class=\"row_heading level0 row5\" >Hernandez High School</th>\n",
       "                        <td id=\"T_0a5d89d8_4347_11ed_bf86_5414f348fa57row5_col0\" class=\"data row5 col0\" >District</td>\n",
       "                        <td id=\"T_0a5d89d8_4347_11ed_bf86_5414f348fa57row5_col1\" class=\"data row5 col1\" >4635</td>\n",
       "                        <td id=\"T_0a5d89d8_4347_11ed_bf86_5414f348fa57row5_col2\" class=\"data row5 col2\" >$3,022,020.00</td>\n",
       "                        <td id=\"T_0a5d89d8_4347_11ed_bf86_5414f348fa57row5_col3\" class=\"data row5 col3\" >$652.00</td>\n",
       "                        <td id=\"T_0a5d89d8_4347_11ed_bf86_5414f348fa57row5_col4\" class=\"data row5 col4\" >77.289752</td>\n",
       "                        <td id=\"T_0a5d89d8_4347_11ed_bf86_5414f348fa57row5_col5\" class=\"data row5 col5\" >80.934412</td>\n",
       "                        <td id=\"T_0a5d89d8_4347_11ed_bf86_5414f348fa57row5_col6\" class=\"data row5 col6\" >66.752967</td>\n",
       "                        <td id=\"T_0a5d89d8_4347_11ed_bf86_5414f348fa57row5_col7\" class=\"data row5 col7\" >80.862999</td>\n",
       "                        <td id=\"T_0a5d89d8_4347_11ed_bf86_5414f348fa57row5_col8\" class=\"data row5 col8\" >53.527508</td>\n",
       "            </tr>\n",
       "            <tr>\n",
       "                        <th id=\"T_0a5d89d8_4347_11ed_bf86_5414f348fa57level0_row6\" class=\"row_heading level0 row6\" >Holden High School</th>\n",
       "                        <td id=\"T_0a5d89d8_4347_11ed_bf86_5414f348fa57row6_col0\" class=\"data row6 col0\" >Charter</td>\n",
       "                        <td id=\"T_0a5d89d8_4347_11ed_bf86_5414f348fa57row6_col1\" class=\"data row6 col1\" >427</td>\n",
       "                        <td id=\"T_0a5d89d8_4347_11ed_bf86_5414f348fa57row6_col2\" class=\"data row6 col2\" >$248,087.00</td>\n",
       "                        <td id=\"T_0a5d89d8_4347_11ed_bf86_5414f348fa57row6_col3\" class=\"data row6 col3\" >$581.00</td>\n",
       "                        <td id=\"T_0a5d89d8_4347_11ed_bf86_5414f348fa57row6_col4\" class=\"data row6 col4\" >83.803279</td>\n",
       "                        <td id=\"T_0a5d89d8_4347_11ed_bf86_5414f348fa57row6_col5\" class=\"data row6 col5\" >83.814988</td>\n",
       "                        <td id=\"T_0a5d89d8_4347_11ed_bf86_5414f348fa57row6_col6\" class=\"data row6 col6\" >92.505855</td>\n",
       "                        <td id=\"T_0a5d89d8_4347_11ed_bf86_5414f348fa57row6_col7\" class=\"data row6 col7\" >96.252927</td>\n",
       "                        <td id=\"T_0a5d89d8_4347_11ed_bf86_5414f348fa57row6_col8\" class=\"data row6 col8\" >89.227166</td>\n",
       "            </tr>\n",
       "            <tr>\n",
       "                        <th id=\"T_0a5d89d8_4347_11ed_bf86_5414f348fa57level0_row7\" class=\"row_heading level0 row7\" >Huang High School</th>\n",
       "                        <td id=\"T_0a5d89d8_4347_11ed_bf86_5414f348fa57row7_col0\" class=\"data row7 col0\" >District</td>\n",
       "                        <td id=\"T_0a5d89d8_4347_11ed_bf86_5414f348fa57row7_col1\" class=\"data row7 col1\" >2917</td>\n",
       "                        <td id=\"T_0a5d89d8_4347_11ed_bf86_5414f348fa57row7_col2\" class=\"data row7 col2\" >$1,910,635.00</td>\n",
       "                        <td id=\"T_0a5d89d8_4347_11ed_bf86_5414f348fa57row7_col3\" class=\"data row7 col3\" >$655.00</td>\n",
       "                        <td id=\"T_0a5d89d8_4347_11ed_bf86_5414f348fa57row7_col4\" class=\"data row7 col4\" >76.629414</td>\n",
       "                        <td id=\"T_0a5d89d8_4347_11ed_bf86_5414f348fa57row7_col5\" class=\"data row7 col5\" >81.182722</td>\n",
       "                        <td id=\"T_0a5d89d8_4347_11ed_bf86_5414f348fa57row7_col6\" class=\"data row7 col6\" >65.683922</td>\n",
       "                        <td id=\"T_0a5d89d8_4347_11ed_bf86_5414f348fa57row7_col7\" class=\"data row7 col7\" >81.316421</td>\n",
       "                        <td id=\"T_0a5d89d8_4347_11ed_bf86_5414f348fa57row7_col8\" class=\"data row7 col8\" >53.513884</td>\n",
       "            </tr>\n",
       "            <tr>\n",
       "                        <th id=\"T_0a5d89d8_4347_11ed_bf86_5414f348fa57level0_row8\" class=\"row_heading level0 row8\" >Johnson High School</th>\n",
       "                        <td id=\"T_0a5d89d8_4347_11ed_bf86_5414f348fa57row8_col0\" class=\"data row8 col0\" >District</td>\n",
       "                        <td id=\"T_0a5d89d8_4347_11ed_bf86_5414f348fa57row8_col1\" class=\"data row8 col1\" >4761</td>\n",
       "                        <td id=\"T_0a5d89d8_4347_11ed_bf86_5414f348fa57row8_col2\" class=\"data row8 col2\" >$3,094,650.00</td>\n",
       "                        <td id=\"T_0a5d89d8_4347_11ed_bf86_5414f348fa57row8_col3\" class=\"data row8 col3\" >$650.00</td>\n",
       "                        <td id=\"T_0a5d89d8_4347_11ed_bf86_5414f348fa57row8_col4\" class=\"data row8 col4\" >77.072464</td>\n",
       "                        <td id=\"T_0a5d89d8_4347_11ed_bf86_5414f348fa57row8_col5\" class=\"data row8 col5\" >80.966394</td>\n",
       "                        <td id=\"T_0a5d89d8_4347_11ed_bf86_5414f348fa57row8_col6\" class=\"data row8 col6\" >66.057551</td>\n",
       "                        <td id=\"T_0a5d89d8_4347_11ed_bf86_5414f348fa57row8_col7\" class=\"data row8 col7\" >81.222432</td>\n",
       "                        <td id=\"T_0a5d89d8_4347_11ed_bf86_5414f348fa57row8_col8\" class=\"data row8 col8\" >53.539172</td>\n",
       "            </tr>\n",
       "            <tr>\n",
       "                        <th id=\"T_0a5d89d8_4347_11ed_bf86_5414f348fa57level0_row9\" class=\"row_heading level0 row9\" >Pena High School</th>\n",
       "                        <td id=\"T_0a5d89d8_4347_11ed_bf86_5414f348fa57row9_col0\" class=\"data row9 col0\" >Charter</td>\n",
       "                        <td id=\"T_0a5d89d8_4347_11ed_bf86_5414f348fa57row9_col1\" class=\"data row9 col1\" >962</td>\n",
       "                        <td id=\"T_0a5d89d8_4347_11ed_bf86_5414f348fa57row9_col2\" class=\"data row9 col2\" >$585,858.00</td>\n",
       "                        <td id=\"T_0a5d89d8_4347_11ed_bf86_5414f348fa57row9_col3\" class=\"data row9 col3\" >$609.00</td>\n",
       "                        <td id=\"T_0a5d89d8_4347_11ed_bf86_5414f348fa57row9_col4\" class=\"data row9 col4\" >83.839917</td>\n",
       "                        <td id=\"T_0a5d89d8_4347_11ed_bf86_5414f348fa57row9_col5\" class=\"data row9 col5\" >84.044699</td>\n",
       "                        <td id=\"T_0a5d89d8_4347_11ed_bf86_5414f348fa57row9_col6\" class=\"data row9 col6\" >94.594595</td>\n",
       "                        <td id=\"T_0a5d89d8_4347_11ed_bf86_5414f348fa57row9_col7\" class=\"data row9 col7\" >95.945946</td>\n",
       "                        <td id=\"T_0a5d89d8_4347_11ed_bf86_5414f348fa57row9_col8\" class=\"data row9 col8\" >90.540541</td>\n",
       "            </tr>\n",
       "            <tr>\n",
       "                        <th id=\"T_0a5d89d8_4347_11ed_bf86_5414f348fa57level0_row10\" class=\"row_heading level0 row10\" >Rodriguez High School</th>\n",
       "                        <td id=\"T_0a5d89d8_4347_11ed_bf86_5414f348fa57row10_col0\" class=\"data row10 col0\" >District</td>\n",
       "                        <td id=\"T_0a5d89d8_4347_11ed_bf86_5414f348fa57row10_col1\" class=\"data row10 col1\" >3999</td>\n",
       "                        <td id=\"T_0a5d89d8_4347_11ed_bf86_5414f348fa57row10_col2\" class=\"data row10 col2\" >$2,547,363.00</td>\n",
       "                        <td id=\"T_0a5d89d8_4347_11ed_bf86_5414f348fa57row10_col3\" class=\"data row10 col3\" >$637.00</td>\n",
       "                        <td id=\"T_0a5d89d8_4347_11ed_bf86_5414f348fa57row10_col4\" class=\"data row10 col4\" >76.842711</td>\n",
       "                        <td id=\"T_0a5d89d8_4347_11ed_bf86_5414f348fa57row10_col5\" class=\"data row10 col5\" >80.744686</td>\n",
       "                        <td id=\"T_0a5d89d8_4347_11ed_bf86_5414f348fa57row10_col6\" class=\"data row10 col6\" >66.366592</td>\n",
       "                        <td id=\"T_0a5d89d8_4347_11ed_bf86_5414f348fa57row10_col7\" class=\"data row10 col7\" >80.220055</td>\n",
       "                        <td id=\"T_0a5d89d8_4347_11ed_bf86_5414f348fa57row10_col8\" class=\"data row10 col8\" >52.988247</td>\n",
       "            </tr>\n",
       "            <tr>\n",
       "                        <th id=\"T_0a5d89d8_4347_11ed_bf86_5414f348fa57level0_row11\" class=\"row_heading level0 row11\" >Shelton High School</th>\n",
       "                        <td id=\"T_0a5d89d8_4347_11ed_bf86_5414f348fa57row11_col0\" class=\"data row11 col0\" >Charter</td>\n",
       "                        <td id=\"T_0a5d89d8_4347_11ed_bf86_5414f348fa57row11_col1\" class=\"data row11 col1\" >1761</td>\n",
       "                        <td id=\"T_0a5d89d8_4347_11ed_bf86_5414f348fa57row11_col2\" class=\"data row11 col2\" >$1,056,600.00</td>\n",
       "                        <td id=\"T_0a5d89d8_4347_11ed_bf86_5414f348fa57row11_col3\" class=\"data row11 col3\" >$600.00</td>\n",
       "                        <td id=\"T_0a5d89d8_4347_11ed_bf86_5414f348fa57row11_col4\" class=\"data row11 col4\" >83.359455</td>\n",
       "                        <td id=\"T_0a5d89d8_4347_11ed_bf86_5414f348fa57row11_col5\" class=\"data row11 col5\" >83.725724</td>\n",
       "                        <td id=\"T_0a5d89d8_4347_11ed_bf86_5414f348fa57row11_col6\" class=\"data row11 col6\" >93.867121</td>\n",
       "                        <td id=\"T_0a5d89d8_4347_11ed_bf86_5414f348fa57row11_col7\" class=\"data row11 col7\" >95.854628</td>\n",
       "                        <td id=\"T_0a5d89d8_4347_11ed_bf86_5414f348fa57row11_col8\" class=\"data row11 col8\" >89.892107</td>\n",
       "            </tr>\n",
       "            <tr>\n",
       "                        <th id=\"T_0a5d89d8_4347_11ed_bf86_5414f348fa57level0_row12\" class=\"row_heading level0 row12\" >Thomas High School</th>\n",
       "                        <td id=\"T_0a5d89d8_4347_11ed_bf86_5414f348fa57row12_col0\" class=\"data row12 col0\" >Charter</td>\n",
       "                        <td id=\"T_0a5d89d8_4347_11ed_bf86_5414f348fa57row12_col1\" class=\"data row12 col1\" >1635</td>\n",
       "                        <td id=\"T_0a5d89d8_4347_11ed_bf86_5414f348fa57row12_col2\" class=\"data row12 col2\" >$1,043,130.00</td>\n",
       "                        <td id=\"T_0a5d89d8_4347_11ed_bf86_5414f348fa57row12_col3\" class=\"data row12 col3\" >$638.00</td>\n",
       "                        <td id=\"T_0a5d89d8_4347_11ed_bf86_5414f348fa57row12_col4\" class=\"data row12 col4\" >83.418349</td>\n",
       "                        <td id=\"T_0a5d89d8_4347_11ed_bf86_5414f348fa57row12_col5\" class=\"data row12 col5\" >83.848930</td>\n",
       "                        <td id=\"T_0a5d89d8_4347_11ed_bf86_5414f348fa57row12_col6\" class=\"data row12 col6\" >93.272171</td>\n",
       "                        <td id=\"T_0a5d89d8_4347_11ed_bf86_5414f348fa57row12_col7\" class=\"data row12 col7\" >97.308869</td>\n",
       "                        <td id=\"T_0a5d89d8_4347_11ed_bf86_5414f348fa57row12_col8\" class=\"data row12 col8\" >90.948012</td>\n",
       "            </tr>\n",
       "            <tr>\n",
       "                        <th id=\"T_0a5d89d8_4347_11ed_bf86_5414f348fa57level0_row13\" class=\"row_heading level0 row13\" >Wilson High School</th>\n",
       "                        <td id=\"T_0a5d89d8_4347_11ed_bf86_5414f348fa57row13_col0\" class=\"data row13 col0\" >Charter</td>\n",
       "                        <td id=\"T_0a5d89d8_4347_11ed_bf86_5414f348fa57row13_col1\" class=\"data row13 col1\" >2283</td>\n",
       "                        <td id=\"T_0a5d89d8_4347_11ed_bf86_5414f348fa57row13_col2\" class=\"data row13 col2\" >$1,319,574.00</td>\n",
       "                        <td id=\"T_0a5d89d8_4347_11ed_bf86_5414f348fa57row13_col3\" class=\"data row13 col3\" >$578.00</td>\n",
       "                        <td id=\"T_0a5d89d8_4347_11ed_bf86_5414f348fa57row13_col4\" class=\"data row13 col4\" >83.274201</td>\n",
       "                        <td id=\"T_0a5d89d8_4347_11ed_bf86_5414f348fa57row13_col5\" class=\"data row13 col5\" >83.989488</td>\n",
       "                        <td id=\"T_0a5d89d8_4347_11ed_bf86_5414f348fa57row13_col6\" class=\"data row13 col6\" >93.867718</td>\n",
       "                        <td id=\"T_0a5d89d8_4347_11ed_bf86_5414f348fa57row13_col7\" class=\"data row13 col7\" >96.539641</td>\n",
       "                        <td id=\"T_0a5d89d8_4347_11ed_bf86_5414f348fa57row13_col8\" class=\"data row13 col8\" >90.582567</td>\n",
       "            </tr>\n",
       "            <tr>\n",
       "                        <th id=\"T_0a5d89d8_4347_11ed_bf86_5414f348fa57level0_row14\" class=\"row_heading level0 row14\" >Wright High School</th>\n",
       "                        <td id=\"T_0a5d89d8_4347_11ed_bf86_5414f348fa57row14_col0\" class=\"data row14 col0\" >Charter</td>\n",
       "                        <td id=\"T_0a5d89d8_4347_11ed_bf86_5414f348fa57row14_col1\" class=\"data row14 col1\" >1800</td>\n",
       "                        <td id=\"T_0a5d89d8_4347_11ed_bf86_5414f348fa57row14_col2\" class=\"data row14 col2\" >$1,049,400.00</td>\n",
       "                        <td id=\"T_0a5d89d8_4347_11ed_bf86_5414f348fa57row14_col3\" class=\"data row14 col3\" >$583.00</td>\n",
       "                        <td id=\"T_0a5d89d8_4347_11ed_bf86_5414f348fa57row14_col4\" class=\"data row14 col4\" >83.682222</td>\n",
       "                        <td id=\"T_0a5d89d8_4347_11ed_bf86_5414f348fa57row14_col5\" class=\"data row14 col5\" >83.955000</td>\n",
       "                        <td id=\"T_0a5d89d8_4347_11ed_bf86_5414f348fa57row14_col6\" class=\"data row14 col6\" >93.333333</td>\n",
       "                        <td id=\"T_0a5d89d8_4347_11ed_bf86_5414f348fa57row14_col7\" class=\"data row14 col7\" >96.611111</td>\n",
       "                        <td id=\"T_0a5d89d8_4347_11ed_bf86_5414f348fa57row14_col8\" class=\"data row14 col8\" >90.333333</td>\n",
       "            </tr>\n",
       "    </tbody></table>"
      ],
      "text/plain": [
       "<pandas.io.formats.style.Styler at 0x2411e6fdfc8>"
      ]
     },
     "execution_count": 21,
     "metadata": {},
     "output_type": "execute_result"
    }
   ],
   "source": [
    "# Create a dataframe to hold the above results\n",
    "school_summary = pd.concat([school_type, students_per_school, budget_per_school, budget_per_student, avg_math_per_school, \n",
    "                            avg_reading_per_school, math_passers_per_school_percentage,\n",
    "                           reading_passers_per_school_percentage, math_and_reading_passers_per_school_percentage], \n",
    "                           axis=1)\n",
    "school_summary.columns=list('ABCDEFGHI')\n",
    "school_summary = school_summary.rename(columns={\"A\": \"School Type\", \"B\":\"Total Students\", \"C\":\"Total School Budget\", \"D\":\"Per Student Budget\",\n",
    "                                      \"E\":\"Average Math Score\", \"F\":\"Average Reading Score\",\n",
    "                                      \"G\":\"% Passing Math\", \"H\":\"% Passing Reading\", \"I\": \"% Overall Passing\"})\n",
    "# Sort DataFrame by index alphabetically\n",
    "school_summary = school_summary.sort_index(axis=0)\n",
    "# Format Total School Budget column and Per Student Budget column per the sample solution\n",
    "school_summary.style.format({\"Total School Budget\": \"${:,.2f}\", \"Per Student Budget\": \"${:,.2f}\"})"
   ]
  },
  {
   "cell_type": "markdown",
   "metadata": {},
   "source": [
    "## Top Performing Schools (By % Overall Passing)"
   ]
  },
  {
   "cell_type": "markdown",
   "metadata": {},
   "source": [
    "* Sort and display the top five performing schools by % overall passing."
   ]
  },
  {
   "cell_type": "code",
   "execution_count": 22,
   "metadata": {
    "scrolled": true
   },
   "outputs": [
    {
     "data": {
      "text/html": [
       "<div>\n",
       "<style scoped>\n",
       "    .dataframe tbody tr th:only-of-type {\n",
       "        vertical-align: middle;\n",
       "    }\n",
       "\n",
       "    .dataframe tbody tr th {\n",
       "        vertical-align: top;\n",
       "    }\n",
       "\n",
       "    .dataframe thead th {\n",
       "        text-align: right;\n",
       "    }\n",
       "</style>\n",
       "<table border=\"1\" class=\"dataframe\">\n",
       "  <thead>\n",
       "    <tr style=\"text-align: right;\">\n",
       "      <th></th>\n",
       "      <th>School Type</th>\n",
       "      <th>Total Students</th>\n",
       "      <th>Total School Budget</th>\n",
       "      <th>Per Student Budget</th>\n",
       "      <th>Average Math Score</th>\n",
       "      <th>Average Reading Score</th>\n",
       "      <th>% Passing Math</th>\n",
       "      <th>% Passing Reading</th>\n",
       "      <th>% Overall Passing</th>\n",
       "    </tr>\n",
       "  </thead>\n",
       "  <tbody>\n",
       "    <tr>\n",
       "      <th>Cabrera High School</th>\n",
       "      <td>Charter</td>\n",
       "      <td>1858</td>\n",
       "      <td>$1,081,356.00</td>\n",
       "      <td>$582.00</td>\n",
       "      <td>83.061895</td>\n",
       "      <td>83.975780</td>\n",
       "      <td>94.133477</td>\n",
       "      <td>97.039828</td>\n",
       "      <td>91.334769</td>\n",
       "    </tr>\n",
       "    <tr>\n",
       "      <th>Thomas High School</th>\n",
       "      <td>Charter</td>\n",
       "      <td>1635</td>\n",
       "      <td>$1,043,130.00</td>\n",
       "      <td>$638.00</td>\n",
       "      <td>83.418349</td>\n",
       "      <td>83.848930</td>\n",
       "      <td>93.272171</td>\n",
       "      <td>97.308869</td>\n",
       "      <td>90.948012</td>\n",
       "    </tr>\n",
       "    <tr>\n",
       "      <th>Griffin High School</th>\n",
       "      <td>Charter</td>\n",
       "      <td>1468</td>\n",
       "      <td>$917,500.00</td>\n",
       "      <td>$625.00</td>\n",
       "      <td>83.351499</td>\n",
       "      <td>83.816757</td>\n",
       "      <td>93.392371</td>\n",
       "      <td>97.138965</td>\n",
       "      <td>90.599455</td>\n",
       "    </tr>\n",
       "    <tr>\n",
       "      <th>Wilson High School</th>\n",
       "      <td>Charter</td>\n",
       "      <td>2283</td>\n",
       "      <td>$1,319,574.00</td>\n",
       "      <td>$578.00</td>\n",
       "      <td>83.274201</td>\n",
       "      <td>83.989488</td>\n",
       "      <td>93.867718</td>\n",
       "      <td>96.539641</td>\n",
       "      <td>90.582567</td>\n",
       "    </tr>\n",
       "    <tr>\n",
       "      <th>Pena High School</th>\n",
       "      <td>Charter</td>\n",
       "      <td>962</td>\n",
       "      <td>$585,858.00</td>\n",
       "      <td>$609.00</td>\n",
       "      <td>83.839917</td>\n",
       "      <td>84.044699</td>\n",
       "      <td>94.594595</td>\n",
       "      <td>95.945946</td>\n",
       "      <td>90.540541</td>\n",
       "    </tr>\n",
       "  </tbody>\n",
       "</table>\n",
       "</div>"
      ],
      "text/plain": [
       "                    School Type  Total Students Total School Budget  \\\n",
       "Cabrera High School     Charter            1858       $1,081,356.00   \n",
       "Thomas High School      Charter            1635       $1,043,130.00   \n",
       "Griffin High School     Charter            1468         $917,500.00   \n",
       "Wilson High School      Charter            2283       $1,319,574.00   \n",
       "Pena High School        Charter             962         $585,858.00   \n",
       "\n",
       "                    Per Student Budget  Average Math Score  \\\n",
       "Cabrera High School            $582.00           83.061895   \n",
       "Thomas High School             $638.00           83.418349   \n",
       "Griffin High School            $625.00           83.351499   \n",
       "Wilson High School             $578.00           83.274201   \n",
       "Pena High School               $609.00           83.839917   \n",
       "\n",
       "                     Average Reading Score  % Passing Math  % Passing Reading  \\\n",
       "Cabrera High School              83.975780       94.133477          97.039828   \n",
       "Thomas High School               83.848930       93.272171          97.308869   \n",
       "Griffin High School              83.816757       93.392371          97.138965   \n",
       "Wilson High School               83.989488       93.867718          96.539641   \n",
       "Pena High School                 84.044699       94.594595          95.945946   \n",
       "\n",
       "                     % Overall Passing  \n",
       "Cabrera High School          91.334769  \n",
       "Thomas High School           90.948012  \n",
       "Griffin High School          90.599455  \n",
       "Wilson High School           90.582567  \n",
       "Pena High School             90.540541  "
      ]
     },
     "execution_count": 22,
     "metadata": {},
     "output_type": "execute_result"
    }
   ],
   "source": [
    "# Sort the schools by `% Overall Passing` in descending order and display the top 5 rows.\n",
    "best_schools_df = school_summary.sort_values(\"% Overall Passing\", ascending=False)\n",
    "# Add formatting to Total School Budget and Per Student Budget to match solution display\n",
    "best_schools_df[\"Total School Budget\"] = best_schools_df[\"Total School Budget\"].map(\"${:,.2f}\".format)\n",
    "best_schools_df[\"Per Student Budget\"] = best_schools_df[\"Per Student Budget\"].map(\"${:,.2f}\".format)\n",
    "# Print out top 5 schools\n",
    "best_schools_df.head()"
   ]
  },
  {
   "cell_type": "markdown",
   "metadata": {},
   "source": [
    "## Bottom Performing Schools (By % Overall Passing)"
   ]
  },
  {
   "cell_type": "markdown",
   "metadata": {},
   "source": [
    "* Sort and display the five worst-performing schools by % overall passing."
   ]
  },
  {
   "cell_type": "code",
   "execution_count": 23,
   "metadata": {},
   "outputs": [
    {
     "data": {
      "text/html": [
       "<div>\n",
       "<style scoped>\n",
       "    .dataframe tbody tr th:only-of-type {\n",
       "        vertical-align: middle;\n",
       "    }\n",
       "\n",
       "    .dataframe tbody tr th {\n",
       "        vertical-align: top;\n",
       "    }\n",
       "\n",
       "    .dataframe thead th {\n",
       "        text-align: right;\n",
       "    }\n",
       "</style>\n",
       "<table border=\"1\" class=\"dataframe\">\n",
       "  <thead>\n",
       "    <tr style=\"text-align: right;\">\n",
       "      <th></th>\n",
       "      <th>School Type</th>\n",
       "      <th>Total Students</th>\n",
       "      <th>Total School Budget</th>\n",
       "      <th>Per Student Budget</th>\n",
       "      <th>Average Math Score</th>\n",
       "      <th>Average Reading Score</th>\n",
       "      <th>% Passing Math</th>\n",
       "      <th>% Passing Reading</th>\n",
       "      <th>% Overall Passing</th>\n",
       "    </tr>\n",
       "  </thead>\n",
       "  <tbody>\n",
       "    <tr>\n",
       "      <th>Rodriguez High School</th>\n",
       "      <td>District</td>\n",
       "      <td>3999</td>\n",
       "      <td>$2,547,363.00</td>\n",
       "      <td>$637.00</td>\n",
       "      <td>76.842711</td>\n",
       "      <td>80.744686</td>\n",
       "      <td>66.366592</td>\n",
       "      <td>80.220055</td>\n",
       "      <td>52.988247</td>\n",
       "    </tr>\n",
       "    <tr>\n",
       "      <th>Figueroa High School</th>\n",
       "      <td>District</td>\n",
       "      <td>2949</td>\n",
       "      <td>$1,884,411.00</td>\n",
       "      <td>$639.00</td>\n",
       "      <td>76.711767</td>\n",
       "      <td>81.158020</td>\n",
       "      <td>65.988471</td>\n",
       "      <td>80.739234</td>\n",
       "      <td>53.204476</td>\n",
       "    </tr>\n",
       "    <tr>\n",
       "      <th>Huang High School</th>\n",
       "      <td>District</td>\n",
       "      <td>2917</td>\n",
       "      <td>$1,910,635.00</td>\n",
       "      <td>$655.00</td>\n",
       "      <td>76.629414</td>\n",
       "      <td>81.182722</td>\n",
       "      <td>65.683922</td>\n",
       "      <td>81.316421</td>\n",
       "      <td>53.513884</td>\n",
       "    </tr>\n",
       "    <tr>\n",
       "      <th>Hernandez High School</th>\n",
       "      <td>District</td>\n",
       "      <td>4635</td>\n",
       "      <td>$3,022,020.00</td>\n",
       "      <td>$652.00</td>\n",
       "      <td>77.289752</td>\n",
       "      <td>80.934412</td>\n",
       "      <td>66.752967</td>\n",
       "      <td>80.862999</td>\n",
       "      <td>53.527508</td>\n",
       "    </tr>\n",
       "    <tr>\n",
       "      <th>Johnson High School</th>\n",
       "      <td>District</td>\n",
       "      <td>4761</td>\n",
       "      <td>$3,094,650.00</td>\n",
       "      <td>$650.00</td>\n",
       "      <td>77.072464</td>\n",
       "      <td>80.966394</td>\n",
       "      <td>66.057551</td>\n",
       "      <td>81.222432</td>\n",
       "      <td>53.539172</td>\n",
       "    </tr>\n",
       "  </tbody>\n",
       "</table>\n",
       "</div>"
      ],
      "text/plain": [
       "                      School Type  Total Students Total School Budget  \\\n",
       "Rodriguez High School    District            3999       $2,547,363.00   \n",
       "Figueroa High School     District            2949       $1,884,411.00   \n",
       "Huang High School        District            2917       $1,910,635.00   \n",
       "Hernandez High School    District            4635       $3,022,020.00   \n",
       "Johnson High School      District            4761       $3,094,650.00   \n",
       "\n",
       "                      Per Student Budget  Average Math Score  \\\n",
       "Rodriguez High School            $637.00           76.842711   \n",
       "Figueroa High School             $639.00           76.711767   \n",
       "Huang High School                $655.00           76.629414   \n",
       "Hernandez High School            $652.00           77.289752   \n",
       "Johnson High School              $650.00           77.072464   \n",
       "\n",
       "                       Average Reading Score  % Passing Math  \\\n",
       "Rodriguez High School              80.744686       66.366592   \n",
       "Figueroa High School               81.158020       65.988471   \n",
       "Huang High School                  81.182722       65.683922   \n",
       "Hernandez High School              80.934412       66.752967   \n",
       "Johnson High School                80.966394       66.057551   \n",
       "\n",
       "                       % Passing Reading  % Overall Passing  \n",
       "Rodriguez High School          80.220055          52.988247  \n",
       "Figueroa High School           80.739234          53.204476  \n",
       "Huang High School              81.316421          53.513884  \n",
       "Hernandez High School          80.862999          53.527508  \n",
       "Johnson High School            81.222432          53.539172  "
      ]
     },
     "execution_count": 23,
     "metadata": {},
     "output_type": "execute_result"
    }
   ],
   "source": [
    "# Sort the schools by `% Overall Passing` in ascending order and display the top 5 rows.\n",
    "worst_schools_df = school_summary.sort_values(\"% Overall Passing\", ascending=True)\n",
    "# Add formatting to Total School Budget and Per Student Budget to match solution display\n",
    "worst_schools_df[\"Total School Budget\"] = worst_schools_df[\"Total School Budget\"].map(\"${:,.2f}\".format)\n",
    "worst_schools_df[\"Per Student Budget\"] = worst_schools_df[\"Per Student Budget\"].map(\"${:,.2f}\".format)\n",
    "# Print out top 5 schools\n",
    "worst_schools_df.head()"
   ]
  },
  {
   "cell_type": "markdown",
   "metadata": {
    "collapsed": true
   },
   "source": [
    "## Math Scores by Grade"
   ]
  },
  {
   "cell_type": "markdown",
   "metadata": {},
   "source": [
    "* Create a table that lists the average Reading Score for students of each grade level (9th, 10th, 11th, 12th) at each school.\n",
    "\n",
    "  * Create a pandas series for each grade. Hint: use a conditional statement.\n",
    "  \n",
    "  * Group each series by school\n",
    "  \n",
    "  * Combine the series into a dataframe\n",
    "  \n",
    "  * Optional: give the displayed data cleaner formatting"
   ]
  },
  {
   "cell_type": "code",
   "execution_count": 24,
   "metadata": {},
   "outputs": [],
   "source": [
    "# Create a pandas series for each grade\n",
    "grade9 = school_data_complete[(school_data_complete[\"grade\"] == \"9th\")]\n",
    "grade10 = school_data_complete[(school_data_complete[\"grade\"] == \"10th\")]\n",
    "grade11 = school_data_complete[(school_data_complete[\"grade\"] == \"11th\")]\n",
    "grade12 = school_data_complete[(school_data_complete[\"grade\"] == \"12th\")]\n",
    "# Group by school_name and take the average grade\n",
    "grade9_grouped = grade9.groupby([\"school_name\"]).mean()\n",
    "grade10_grouped = grade10.groupby([\"school_name\"]).mean()\n",
    "grade11_grouped = grade11.groupby([\"school_name\"]).mean()\n",
    "grade12_grouped = grade12.groupby([\"school_name\"]).mean()\n",
    "# Select math score for Series\n",
    "grade9_avg_math_score = grade9_grouped[\"math_score\"]\n",
    "grade10_avg_math_score = grade10_grouped[\"math_score\"]\n",
    "grade11_avg_math_score = grade11_grouped[\"math_score\"]\n",
    "grade12_avg_math_score = grade12_grouped[\"math_score\"]"
   ]
  },
  {
   "cell_type": "code",
   "execution_count": 25,
   "metadata": {},
   "outputs": [],
   "source": [
    "# Combine the series into a dataframe\n",
    "avg_math_score_per_grade = pd.concat([grade9_avg_math_score, grade10_avg_math_score, grade11_avg_math_score,\n",
    "                                      grade12_avg_math_score], axis=1)\n",
    "avg_math_score_per_grade.columns=list('ABCD')\n",
    "avg_math_score_per_grade = avg_math_score_per_grade.rename(columns={\"A\": \"9th\", \"B\":\"10th\", \"C\":\"11th\", \"D\":\"12th\"})"
   ]
  },
  {
   "cell_type": "code",
   "execution_count": 26,
   "metadata": {},
   "outputs": [
    {
     "data": {
      "text/html": [
       "<div>\n",
       "<style scoped>\n",
       "    .dataframe tbody tr th:only-of-type {\n",
       "        vertical-align: middle;\n",
       "    }\n",
       "\n",
       "    .dataframe tbody tr th {\n",
       "        vertical-align: top;\n",
       "    }\n",
       "\n",
       "    .dataframe thead th {\n",
       "        text-align: right;\n",
       "    }\n",
       "</style>\n",
       "<table border=\"1\" class=\"dataframe\">\n",
       "  <thead>\n",
       "    <tr style=\"text-align: right;\">\n",
       "      <th></th>\n",
       "      <th>9th</th>\n",
       "      <th>10th</th>\n",
       "      <th>11th</th>\n",
       "      <th>12th</th>\n",
       "    </tr>\n",
       "  </thead>\n",
       "  <tbody>\n",
       "    <tr>\n",
       "      <th>Bailey High School</th>\n",
       "      <td>77.083676</td>\n",
       "      <td>76.996772</td>\n",
       "      <td>77.515588</td>\n",
       "      <td>76.492218</td>\n",
       "    </tr>\n",
       "    <tr>\n",
       "      <th>Cabrera High School</th>\n",
       "      <td>83.094697</td>\n",
       "      <td>83.154506</td>\n",
       "      <td>82.765560</td>\n",
       "      <td>83.277487</td>\n",
       "    </tr>\n",
       "    <tr>\n",
       "      <th>Figueroa High School</th>\n",
       "      <td>76.403037</td>\n",
       "      <td>76.539974</td>\n",
       "      <td>76.884344</td>\n",
       "      <td>77.151369</td>\n",
       "    </tr>\n",
       "    <tr>\n",
       "      <th>Ford High School</th>\n",
       "      <td>77.361345</td>\n",
       "      <td>77.672316</td>\n",
       "      <td>76.918058</td>\n",
       "      <td>76.179963</td>\n",
       "    </tr>\n",
       "    <tr>\n",
       "      <th>Griffin High School</th>\n",
       "      <td>82.044010</td>\n",
       "      <td>84.229064</td>\n",
       "      <td>83.842105</td>\n",
       "      <td>83.356164</td>\n",
       "    </tr>\n",
       "    <tr>\n",
       "      <th>Hernandez High School</th>\n",
       "      <td>77.438495</td>\n",
       "      <td>77.337408</td>\n",
       "      <td>77.136029</td>\n",
       "      <td>77.186567</td>\n",
       "    </tr>\n",
       "    <tr>\n",
       "      <th>Holden High School</th>\n",
       "      <td>83.787402</td>\n",
       "      <td>83.429825</td>\n",
       "      <td>85.000000</td>\n",
       "      <td>82.855422</td>\n",
       "    </tr>\n",
       "    <tr>\n",
       "      <th>Huang High School</th>\n",
       "      <td>77.027251</td>\n",
       "      <td>75.908735</td>\n",
       "      <td>76.446602</td>\n",
       "      <td>77.225641</td>\n",
       "    </tr>\n",
       "    <tr>\n",
       "      <th>Johnson High School</th>\n",
       "      <td>77.187857</td>\n",
       "      <td>76.691117</td>\n",
       "      <td>77.491653</td>\n",
       "      <td>76.863248</td>\n",
       "    </tr>\n",
       "    <tr>\n",
       "      <th>Pena High School</th>\n",
       "      <td>83.625455</td>\n",
       "      <td>83.372000</td>\n",
       "      <td>84.328125</td>\n",
       "      <td>84.121547</td>\n",
       "    </tr>\n",
       "    <tr>\n",
       "      <th>Rodriguez High School</th>\n",
       "      <td>76.859966</td>\n",
       "      <td>76.612500</td>\n",
       "      <td>76.395626</td>\n",
       "      <td>77.690748</td>\n",
       "    </tr>\n",
       "    <tr>\n",
       "      <th>Shelton High School</th>\n",
       "      <td>83.420755</td>\n",
       "      <td>82.917411</td>\n",
       "      <td>83.383495</td>\n",
       "      <td>83.778976</td>\n",
       "    </tr>\n",
       "    <tr>\n",
       "      <th>Thomas High School</th>\n",
       "      <td>83.590022</td>\n",
       "      <td>83.087886</td>\n",
       "      <td>83.498795</td>\n",
       "      <td>83.497041</td>\n",
       "    </tr>\n",
       "    <tr>\n",
       "      <th>Wilson High School</th>\n",
       "      <td>83.085578</td>\n",
       "      <td>83.724422</td>\n",
       "      <td>83.195326</td>\n",
       "      <td>83.035794</td>\n",
       "    </tr>\n",
       "    <tr>\n",
       "      <th>Wright High School</th>\n",
       "      <td>83.264706</td>\n",
       "      <td>84.010288</td>\n",
       "      <td>83.836782</td>\n",
       "      <td>83.644986</td>\n",
       "    </tr>\n",
       "  </tbody>\n",
       "</table>\n",
       "</div>"
      ],
      "text/plain": [
       "                             9th       10th       11th       12th\n",
       "Bailey High School     77.083676  76.996772  77.515588  76.492218\n",
       "Cabrera High School    83.094697  83.154506  82.765560  83.277487\n",
       "Figueroa High School   76.403037  76.539974  76.884344  77.151369\n",
       "Ford High School       77.361345  77.672316  76.918058  76.179963\n",
       "Griffin High School    82.044010  84.229064  83.842105  83.356164\n",
       "Hernandez High School  77.438495  77.337408  77.136029  77.186567\n",
       "Holden High School     83.787402  83.429825  85.000000  82.855422\n",
       "Huang High School      77.027251  75.908735  76.446602  77.225641\n",
       "Johnson High School    77.187857  76.691117  77.491653  76.863248\n",
       "Pena High School       83.625455  83.372000  84.328125  84.121547\n",
       "Rodriguez High School  76.859966  76.612500  76.395626  77.690748\n",
       "Shelton High School    83.420755  82.917411  83.383495  83.778976\n",
       "Thomas High School     83.590022  83.087886  83.498795  83.497041\n",
       "Wilson High School     83.085578  83.724422  83.195326  83.035794\n",
       "Wright High School     83.264706  84.010288  83.836782  83.644986"
      ]
     },
     "execution_count": 26,
     "metadata": {},
     "output_type": "execute_result"
    }
   ],
   "source": [
    "# Optional: give the displayed data cleaner formatting\n",
    "# remove index header \n",
    "avg_math_score_per_grade.index.name = None\n",
    "avg_math_score_per_grade"
   ]
  },
  {
   "cell_type": "markdown",
   "metadata": {},
   "source": [
    "## Reading Score by Grade "
   ]
  },
  {
   "cell_type": "markdown",
   "metadata": {},
   "source": [
    "* Perform the same operations as above for reading scores"
   ]
  },
  {
   "cell_type": "code",
   "execution_count": 27,
   "metadata": {},
   "outputs": [],
   "source": [
    "# Create a pandas series for each grade\n",
    "grade9 = school_data_complete[(school_data_complete[\"grade\"] == \"9th\")]\n",
    "grade10 = school_data_complete[(school_data_complete[\"grade\"] == \"10th\")]\n",
    "grade11 = school_data_complete[(school_data_complete[\"grade\"] == \"11th\")]\n",
    "grade12 = school_data_complete[(school_data_complete[\"grade\"] == \"12th\")]\n",
    "# Group by school_name and take the average grade\n",
    "grade9_grouped = grade9.groupby([\"school_name\"]).mean()\n",
    "grade10_grouped = grade10.groupby([\"school_name\"]).mean()\n",
    "grade11_grouped = grade11.groupby([\"school_name\"]).mean()\n",
    "grade12_grouped = grade12.groupby([\"school_name\"]).mean()\n",
    "# Select reading score for Series\n",
    "grade9_avg_reading_score = grade9_grouped[\"reading_score\"]\n",
    "grade10_avg_reading_score = grade10_grouped[\"reading_score\"]\n",
    "grade11_avg_reading_score = grade11_grouped[\"reading_score\"]\n",
    "grade12_avg_reading_score = grade12_grouped[\"reading_score\"]"
   ]
  },
  {
   "cell_type": "code",
   "execution_count": 28,
   "metadata": {},
   "outputs": [],
   "source": [
    "# Combine the series into a dataframe\n",
    "avg_reading_score_per_grade = pd.concat([grade9_avg_reading_score, grade10_avg_reading_score, grade11_avg_reading_score,\n",
    "                                      grade12_avg_reading_score], axis=1)\n",
    "avg_reading_score_per_grade.columns=list('ABCD')\n",
    "avg_reading_score_per_grade = avg_reading_score_per_grade.rename(columns={\"A\": \"9th\", \"B\":\"10th\", \"C\":\"11th\", \"D\":\"12th\"})"
   ]
  },
  {
   "cell_type": "code",
   "execution_count": 29,
   "metadata": {},
   "outputs": [
    {
     "data": {
      "text/html": [
       "<div>\n",
       "<style scoped>\n",
       "    .dataframe tbody tr th:only-of-type {\n",
       "        vertical-align: middle;\n",
       "    }\n",
       "\n",
       "    .dataframe tbody tr th {\n",
       "        vertical-align: top;\n",
       "    }\n",
       "\n",
       "    .dataframe thead th {\n",
       "        text-align: right;\n",
       "    }\n",
       "</style>\n",
       "<table border=\"1\" class=\"dataframe\">\n",
       "  <thead>\n",
       "    <tr style=\"text-align: right;\">\n",
       "      <th></th>\n",
       "      <th>9th</th>\n",
       "      <th>10th</th>\n",
       "      <th>11th</th>\n",
       "      <th>12th</th>\n",
       "    </tr>\n",
       "  </thead>\n",
       "  <tbody>\n",
       "    <tr>\n",
       "      <th>Bailey High School</th>\n",
       "      <td>81.303155</td>\n",
       "      <td>80.907183</td>\n",
       "      <td>80.945643</td>\n",
       "      <td>80.912451</td>\n",
       "    </tr>\n",
       "    <tr>\n",
       "      <th>Cabrera High School</th>\n",
       "      <td>83.676136</td>\n",
       "      <td>84.253219</td>\n",
       "      <td>83.788382</td>\n",
       "      <td>84.287958</td>\n",
       "    </tr>\n",
       "    <tr>\n",
       "      <th>Figueroa High School</th>\n",
       "      <td>81.198598</td>\n",
       "      <td>81.408912</td>\n",
       "      <td>80.640339</td>\n",
       "      <td>81.384863</td>\n",
       "    </tr>\n",
       "    <tr>\n",
       "      <th>Ford High School</th>\n",
       "      <td>80.632653</td>\n",
       "      <td>81.262712</td>\n",
       "      <td>80.403642</td>\n",
       "      <td>80.662338</td>\n",
       "    </tr>\n",
       "    <tr>\n",
       "      <th>Griffin High School</th>\n",
       "      <td>83.369193</td>\n",
       "      <td>83.706897</td>\n",
       "      <td>84.288089</td>\n",
       "      <td>84.013699</td>\n",
       "    </tr>\n",
       "    <tr>\n",
       "      <th>Hernandez High School</th>\n",
       "      <td>80.866860</td>\n",
       "      <td>80.660147</td>\n",
       "      <td>81.396140</td>\n",
       "      <td>80.857143</td>\n",
       "    </tr>\n",
       "    <tr>\n",
       "      <th>Holden High School</th>\n",
       "      <td>83.677165</td>\n",
       "      <td>83.324561</td>\n",
       "      <td>83.815534</td>\n",
       "      <td>84.698795</td>\n",
       "    </tr>\n",
       "    <tr>\n",
       "      <th>Huang High School</th>\n",
       "      <td>81.290284</td>\n",
       "      <td>81.512386</td>\n",
       "      <td>81.417476</td>\n",
       "      <td>80.305983</td>\n",
       "    </tr>\n",
       "    <tr>\n",
       "      <th>Johnson High School</th>\n",
       "      <td>81.260714</td>\n",
       "      <td>80.773431</td>\n",
       "      <td>80.616027</td>\n",
       "      <td>81.227564</td>\n",
       "    </tr>\n",
       "    <tr>\n",
       "      <th>Pena High School</th>\n",
       "      <td>83.807273</td>\n",
       "      <td>83.612000</td>\n",
       "      <td>84.335938</td>\n",
       "      <td>84.591160</td>\n",
       "    </tr>\n",
       "    <tr>\n",
       "      <th>Rodriguez High School</th>\n",
       "      <td>80.993127</td>\n",
       "      <td>80.629808</td>\n",
       "      <td>80.864811</td>\n",
       "      <td>80.376426</td>\n",
       "    </tr>\n",
       "    <tr>\n",
       "      <th>Shelton High School</th>\n",
       "      <td>84.122642</td>\n",
       "      <td>83.441964</td>\n",
       "      <td>84.373786</td>\n",
       "      <td>82.781671</td>\n",
       "    </tr>\n",
       "    <tr>\n",
       "      <th>Thomas High School</th>\n",
       "      <td>83.728850</td>\n",
       "      <td>84.254157</td>\n",
       "      <td>83.585542</td>\n",
       "      <td>83.831361</td>\n",
       "    </tr>\n",
       "    <tr>\n",
       "      <th>Wilson High School</th>\n",
       "      <td>83.939778</td>\n",
       "      <td>84.021452</td>\n",
       "      <td>83.764608</td>\n",
       "      <td>84.317673</td>\n",
       "    </tr>\n",
       "    <tr>\n",
       "      <th>Wright High School</th>\n",
       "      <td>83.833333</td>\n",
       "      <td>83.812757</td>\n",
       "      <td>84.156322</td>\n",
       "      <td>84.073171</td>\n",
       "    </tr>\n",
       "  </tbody>\n",
       "</table>\n",
       "</div>"
      ],
      "text/plain": [
       "                             9th       10th       11th       12th\n",
       "Bailey High School     81.303155  80.907183  80.945643  80.912451\n",
       "Cabrera High School    83.676136  84.253219  83.788382  84.287958\n",
       "Figueroa High School   81.198598  81.408912  80.640339  81.384863\n",
       "Ford High School       80.632653  81.262712  80.403642  80.662338\n",
       "Griffin High School    83.369193  83.706897  84.288089  84.013699\n",
       "Hernandez High School  80.866860  80.660147  81.396140  80.857143\n",
       "Holden High School     83.677165  83.324561  83.815534  84.698795\n",
       "Huang High School      81.290284  81.512386  81.417476  80.305983\n",
       "Johnson High School    81.260714  80.773431  80.616027  81.227564\n",
       "Pena High School       83.807273  83.612000  84.335938  84.591160\n",
       "Rodriguez High School  80.993127  80.629808  80.864811  80.376426\n",
       "Shelton High School    84.122642  83.441964  84.373786  82.781671\n",
       "Thomas High School     83.728850  84.254157  83.585542  83.831361\n",
       "Wilson High School     83.939778  84.021452  83.764608  84.317673\n",
       "Wright High School     83.833333  83.812757  84.156322  84.073171"
      ]
     },
     "execution_count": 29,
     "metadata": {},
     "output_type": "execute_result"
    }
   ],
   "source": [
    "# Optional: give the displayed data cleaner formatting\n",
    "# remove index header \n",
    "avg_reading_score_per_grade.index.name = None\n",
    "avg_reading_score_per_grade"
   ]
  },
  {
   "cell_type": "markdown",
   "metadata": {},
   "source": [
    "## Scores by School Spending"
   ]
  },
  {
   "cell_type": "markdown",
   "metadata": {},
   "source": [
    "* Create a table that breaks down school performances based on average Spending Ranges (Per Student). Use 4 reasonable bins to group school spending. Include in the table each of the following:\n",
    "  * Average Math Score\n",
    "  * Average Reading Score\n",
    "  * % Passing Math\n",
    "  * % Passing Reading\n",
    "  * Overall Passing Rate (Average of the above two)"
   ]
  },
  {
   "cell_type": "code",
   "execution_count": 30,
   "metadata": {
    "scrolled": true
   },
   "outputs": [],
   "source": [
    "# Establish bins & labels from the solution table\n",
    "bins_spend = [0, 585, 630, 645, 680]\n",
    "group_names = [\"<$585\", \"$585-630\", \"$630-645\", \"$645-680\"]\n",
    "\n",
    "# Create df to incorporate bins\n",
    "school_spending = school_summary.copy()"
   ]
  },
  {
   "cell_type": "code",
   "execution_count": 31,
   "metadata": {},
   "outputs": [],
   "source": [
    "# Incorporate bins into df\n",
    "school_spending[\"Spending Ranges (Per Student)\"] = pd.cut(school_spending[\"Per Student Budget\"], bins_spend, labels=group_names)"
   ]
  },
  {
   "cell_type": "code",
   "execution_count": 32,
   "metadata": {},
   "outputs": [],
   "source": [
    "# Groupby Spending Ranges (Per Student) \n",
    "grouped_school_spending = school_spending.groupby([\"Spending Ranges (Per Student)\"]).mean()\n",
    "# Retrieve all desired columns from grouped_school_spending\n",
    "avg_math_score_spending = grouped_school_spending[\"Average Math Score\"]\n",
    "avg_reading_score_spending = grouped_school_spending[\"Average Reading Score\"]\n",
    "passing_math_spending = grouped_school_spending[\"% Passing Math\"]\n",
    "passing_reading_spending = grouped_school_spending[\"% Passing Reading\"]\n",
    "overall_passing_spending = grouped_school_spending[\"% Overall Passing\"]"
   ]
  },
  {
   "cell_type": "code",
   "execution_count": 33,
   "metadata": {},
   "outputs": [
    {
     "data": {
      "text/html": [
       "<div>\n",
       "<style scoped>\n",
       "    .dataframe tbody tr th:only-of-type {\n",
       "        vertical-align: middle;\n",
       "    }\n",
       "\n",
       "    .dataframe tbody tr th {\n",
       "        vertical-align: top;\n",
       "    }\n",
       "\n",
       "    .dataframe thead th {\n",
       "        text-align: right;\n",
       "    }\n",
       "</style>\n",
       "<table border=\"1\" class=\"dataframe\">\n",
       "  <thead>\n",
       "    <tr style=\"text-align: right;\">\n",
       "      <th></th>\n",
       "      <th>Average Math Score</th>\n",
       "      <th>Average Reading Score</th>\n",
       "      <th>% Passing Math</th>\n",
       "      <th>% Passing Reading</th>\n",
       "      <th>% OVerall Passing</th>\n",
       "    </tr>\n",
       "    <tr>\n",
       "      <th>Spending Ranges (Per Student)</th>\n",
       "      <th></th>\n",
       "      <th></th>\n",
       "      <th></th>\n",
       "      <th></th>\n",
       "      <th></th>\n",
       "    </tr>\n",
       "  </thead>\n",
       "  <tbody>\n",
       "    <tr>\n",
       "      <th>&lt;$585</th>\n",
       "      <td>83.455399</td>\n",
       "      <td>83.933814</td>\n",
       "      <td>93.460096</td>\n",
       "      <td>96.610877</td>\n",
       "      <td>90.369459</td>\n",
       "    </tr>\n",
       "    <tr>\n",
       "      <th>$585-630</th>\n",
       "      <td>81.899826</td>\n",
       "      <td>83.155286</td>\n",
       "      <td>87.133538</td>\n",
       "      <td>92.718205</td>\n",
       "      <td>81.418596</td>\n",
       "    </tr>\n",
       "    <tr>\n",
       "      <th>$630-645</th>\n",
       "      <td>78.518855</td>\n",
       "      <td>81.624473</td>\n",
       "      <td>73.484209</td>\n",
       "      <td>84.391793</td>\n",
       "      <td>62.857656</td>\n",
       "    </tr>\n",
       "    <tr>\n",
       "      <th>$645-680</th>\n",
       "      <td>76.997210</td>\n",
       "      <td>81.027843</td>\n",
       "      <td>66.164813</td>\n",
       "      <td>81.133951</td>\n",
       "      <td>53.526855</td>\n",
       "    </tr>\n",
       "  </tbody>\n",
       "</table>\n",
       "</div>"
      ],
      "text/plain": [
       "                               Average Math Score  Average Reading Score  \\\n",
       "Spending Ranges (Per Student)                                              \n",
       "<$585                                   83.455399              83.933814   \n",
       "$585-630                                81.899826              83.155286   \n",
       "$630-645                                78.518855              81.624473   \n",
       "$645-680                                76.997210              81.027843   \n",
       "\n",
       "                               % Passing Math  % Passing Reading  \\\n",
       "Spending Ranges (Per Student)                                      \n",
       "<$585                               93.460096          96.610877   \n",
       "$585-630                            87.133538          92.718205   \n",
       "$630-645                            73.484209          84.391793   \n",
       "$645-680                            66.164813          81.133951   \n",
       "\n",
       "                               % OVerall Passing  \n",
       "Spending Ranges (Per Student)                     \n",
       "<$585                                  90.369459  \n",
       "$585-630                               81.418596  \n",
       "$630-645                               62.857656  \n",
       "$645-680                               53.526855  "
      ]
     },
     "execution_count": 33,
     "metadata": {},
     "output_type": "execute_result"
    }
   ],
   "source": [
    "# Create DataFrame and display results\n",
    "school_spending_summary = pd.concat([avg_math_score_spending, avg_reading_score_spending, passing_math_spending,\n",
    "                                    passing_reading_spending, overall_passing_spending], axis=1)\n",
    "school_spending_summary.columns=list('ABCDE')\n",
    "school_spending_summary = school_spending_summary.rename(columns={\"A\": \"Average Math Score\", \"B\": \"Average Reading Score\",\n",
    "                                                                    \"C\": \"% Passing Math\", \"D\": \"% Passing Reading\",\n",
    "                                                                   \"E\": \"% OVerall Passing\"})\n",
    "school_spending_summary"
   ]
  },
  {
   "cell_type": "markdown",
   "metadata": {},
   "source": [
    "## Scores by School Size"
   ]
  },
  {
   "cell_type": "markdown",
   "metadata": {},
   "source": [
    "* Perform the same operations as above, based on school size."
   ]
  },
  {
   "cell_type": "code",
   "execution_count": 34,
   "metadata": {
    "scrolled": true
   },
   "outputs": [],
   "source": [
    "# Establish bins & labels from the solution table\n",
    "bins_size = [0, 1000, 2000, 5000]\n",
    "label_names = [\"Small (<1000)\", \"Medium (1000-2000)\", \"Large (2000-5000)\"]\n",
    "\n",
    "# Create df to incorporate bins\n",
    "school_size = school_summary.copy()"
   ]
  },
  {
   "cell_type": "code",
   "execution_count": 35,
   "metadata": {},
   "outputs": [],
   "source": [
    "# Incorporate bins into df\n",
    "school_size[\"School Size\"] = pd.cut(school_size[\"Total Students\"], bins_size, labels=label_names)"
   ]
  },
  {
   "cell_type": "code",
   "execution_count": 36,
   "metadata": {},
   "outputs": [],
   "source": [
    "# Groupby Size Ranges  \n",
    "grouped_school_size = school_size.groupby([\"School Size\"]).mean()\n",
    "grouped_school_size\n",
    "# Retrieve all desired columns from grouped_school_size\n",
    "avg_math_score_size = grouped_school_size[\"Average Math Score\"]\n",
    "avg_reading_score_size = grouped_school_size[\"Average Reading Score\"]\n",
    "passing_math_size = grouped_school_size[\"% Passing Math\"]\n",
    "passing_reading_size = grouped_school_size[\"% Passing Reading\"]\n",
    "overall_passing_size = grouped_school_size[\"% Overall Passing\"]"
   ]
  },
  {
   "cell_type": "code",
   "execution_count": 37,
   "metadata": {},
   "outputs": [
    {
     "data": {
      "text/html": [
       "<div>\n",
       "<style scoped>\n",
       "    .dataframe tbody tr th:only-of-type {\n",
       "        vertical-align: middle;\n",
       "    }\n",
       "\n",
       "    .dataframe tbody tr th {\n",
       "        vertical-align: top;\n",
       "    }\n",
       "\n",
       "    .dataframe thead th {\n",
       "        text-align: right;\n",
       "    }\n",
       "</style>\n",
       "<table border=\"1\" class=\"dataframe\">\n",
       "  <thead>\n",
       "    <tr style=\"text-align: right;\">\n",
       "      <th></th>\n",
       "      <th>Average Math Score</th>\n",
       "      <th>Average Reading Score</th>\n",
       "      <th>% Passing Math</th>\n",
       "      <th>% Passing Reading</th>\n",
       "      <th>% OVerall Passing</th>\n",
       "    </tr>\n",
       "    <tr>\n",
       "      <th>School Size</th>\n",
       "      <th></th>\n",
       "      <th></th>\n",
       "      <th></th>\n",
       "      <th></th>\n",
       "      <th></th>\n",
       "    </tr>\n",
       "  </thead>\n",
       "  <tbody>\n",
       "    <tr>\n",
       "      <th>Small (&lt;1000)</th>\n",
       "      <td>83.821598</td>\n",
       "      <td>83.929843</td>\n",
       "      <td>93.550225</td>\n",
       "      <td>96.099437</td>\n",
       "      <td>89.883853</td>\n",
       "    </tr>\n",
       "    <tr>\n",
       "      <th>Medium (1000-2000)</th>\n",
       "      <td>83.374684</td>\n",
       "      <td>83.864438</td>\n",
       "      <td>93.599695</td>\n",
       "      <td>96.790680</td>\n",
       "      <td>90.621535</td>\n",
       "    </tr>\n",
       "    <tr>\n",
       "      <th>Large (2000-5000)</th>\n",
       "      <td>77.746417</td>\n",
       "      <td>81.344493</td>\n",
       "      <td>69.963361</td>\n",
       "      <td>82.766634</td>\n",
       "      <td>58.286003</td>\n",
       "    </tr>\n",
       "  </tbody>\n",
       "</table>\n",
       "</div>"
      ],
      "text/plain": [
       "                    Average Math Score  Average Reading Score  % Passing Math  \\\n",
       "School Size                                                                     \n",
       "Small (<1000)                83.821598              83.929843       93.550225   \n",
       "Medium (1000-2000)           83.374684              83.864438       93.599695   \n",
       "Large (2000-5000)            77.746417              81.344493       69.963361   \n",
       "\n",
       "                    % Passing Reading  % OVerall Passing  \n",
       "School Size                                               \n",
       "Small (<1000)               96.099437          89.883853  \n",
       "Medium (1000-2000)          96.790680          90.621535  \n",
       "Large (2000-5000)           82.766634          58.286003  "
      ]
     },
     "execution_count": 37,
     "metadata": {},
     "output_type": "execute_result"
    }
   ],
   "source": [
    "# Create DataFrame and display results\n",
    "school_size_summary = pd.concat([avg_math_score_size, avg_reading_score_size, passing_math_size,\n",
    "                                    passing_reading_size, overall_passing_size], axis=1)\n",
    "school_size_summary.columns=list('ABCDE')\n",
    "school_size_summary = school_size_summary.rename(columns={\"A\": \"Average Math Score\", \"B\": \"Average Reading Score\",\n",
    "                                                                    \"C\": \"% Passing Math\", \"D\": \"% Passing Reading\",\n",
    "                                                                   \"E\": \"% OVerall Passing\"})\n",
    "school_size_summary"
   ]
  },
  {
   "cell_type": "markdown",
   "metadata": {},
   "source": [
    "## Scores by School Type"
   ]
  },
  {
   "cell_type": "markdown",
   "metadata": {},
   "source": [
    "* Perform the same operations as above, based on school type"
   ]
  },
  {
   "cell_type": "code",
   "execution_count": 38,
   "metadata": {},
   "outputs": [],
   "source": [
    "# Since School Type is an existing column, there is no need to create bins\n",
    "# Groupby Size Type \n",
    "grouped_school_type = school_summary.groupby([\"School Type\"]).mean()\n",
    "grouped_school_type\n",
    "# Retrieve all desired columns from grouped_school_type\n",
    "avg_math_score_type = grouped_school_type[\"Average Math Score\"]\n",
    "avg_reading_score_type = grouped_school_type[\"Average Reading Score\"]\n",
    "passing_math_type = grouped_school_type[\"% Passing Math\"]\n",
    "passing_reading_type = grouped_school_type[\"% Passing Reading\"]\n",
    "overall_passing_type = grouped_school_type[\"% Overall Passing\"]"
   ]
  },
  {
   "cell_type": "code",
   "execution_count": 39,
   "metadata": {},
   "outputs": [
    {
     "data": {
      "text/html": [
       "<div>\n",
       "<style scoped>\n",
       "    .dataframe tbody tr th:only-of-type {\n",
       "        vertical-align: middle;\n",
       "    }\n",
       "\n",
       "    .dataframe tbody tr th {\n",
       "        vertical-align: top;\n",
       "    }\n",
       "\n",
       "    .dataframe thead th {\n",
       "        text-align: right;\n",
       "    }\n",
       "</style>\n",
       "<table border=\"1\" class=\"dataframe\">\n",
       "  <thead>\n",
       "    <tr style=\"text-align: right;\">\n",
       "      <th></th>\n",
       "      <th>Average Math Score</th>\n",
       "      <th>Average Reading Score</th>\n",
       "      <th>% Passing Math</th>\n",
       "      <th>% Passing Reading</th>\n",
       "      <th>% OVerall Passing</th>\n",
       "    </tr>\n",
       "    <tr>\n",
       "      <th>School Type</th>\n",
       "      <th></th>\n",
       "      <th></th>\n",
       "      <th></th>\n",
       "      <th></th>\n",
       "      <th></th>\n",
       "    </tr>\n",
       "  </thead>\n",
       "  <tbody>\n",
       "    <tr>\n",
       "      <th>Charter</th>\n",
       "      <td>83.473852</td>\n",
       "      <td>83.896421</td>\n",
       "      <td>93.620830</td>\n",
       "      <td>96.586489</td>\n",
       "      <td>90.432244</td>\n",
       "    </tr>\n",
       "    <tr>\n",
       "      <th>District</th>\n",
       "      <td>76.956733</td>\n",
       "      <td>80.966636</td>\n",
       "      <td>66.548453</td>\n",
       "      <td>80.799062</td>\n",
       "      <td>53.672208</td>\n",
       "    </tr>\n",
       "  </tbody>\n",
       "</table>\n",
       "</div>"
      ],
      "text/plain": [
       "             Average Math Score  Average Reading Score  % Passing Math  \\\n",
       "School Type                                                              \n",
       "Charter               83.473852              83.896421       93.620830   \n",
       "District              76.956733              80.966636       66.548453   \n",
       "\n",
       "             % Passing Reading  % OVerall Passing  \n",
       "School Type                                        \n",
       "Charter              96.586489          90.432244  \n",
       "District             80.799062          53.672208  "
      ]
     },
     "execution_count": 39,
     "metadata": {},
     "output_type": "execute_result"
    }
   ],
   "source": [
    "# Create DataFrame and display results\n",
    "school_type_summary = pd.concat([avg_math_score_type, avg_reading_score_type, passing_math_type,\n",
    "                                    passing_reading_type, overall_passing_type], axis=1)\n",
    "school_type_summary.columns=list('ABCDE')\n",
    "school_type_summary = school_type_summary.rename(columns={\"A\": \"Average Math Score\", \"B\": \"Average Reading Score\",\n",
    "                                                                    \"C\": \"% Passing Math\", \"D\": \"% Passing Reading\",\n",
    "                                                                   \"E\": \"% OVerall Passing\"})\n",
    "school_type_summary"
   ]
  }
 ],
 "metadata": {
  "anaconda-cloud": {},
  "kernel_info": {
   "name": "python3"
  },
  "kernelspec": {
   "display_name": "PythonData",
   "language": "python",
   "name": "pythondata"
  },
  "language_info": {
   "codemirror_mode": {
    "name": "ipython",
    "version": 3
   },
   "file_extension": ".py",
   "mimetype": "text/x-python",
   "name": "python",
   "nbconvert_exporter": "python",
   "pygments_lexer": "ipython3",
   "version": "3.7.7"
  },
  "latex_envs": {
   "LaTeX_envs_menu_present": true,
   "autoclose": false,
   "autocomplete": true,
   "bibliofile": "biblio.bib",
   "cite_by": "apalike",
   "current_citInitial": 1,
   "eqLabelWithNumbers": true,
   "eqNumInitial": 1,
   "hotkeys": {
    "equation": "Ctrl-E",
    "itemize": "Ctrl-I"
   },
   "labels_anchors": false,
   "latex_user_defs": false,
   "report_style_numbering": false,
   "user_envs_cfg": false
  },
  "nteract": {
   "version": "0.8.4"
  }
 },
 "nbformat": 4,
 "nbformat_minor": 1
}
